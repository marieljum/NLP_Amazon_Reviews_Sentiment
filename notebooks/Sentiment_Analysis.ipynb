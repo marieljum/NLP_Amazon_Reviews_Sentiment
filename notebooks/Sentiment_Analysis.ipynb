{
 "cells": [
  {
   "cell_type": "markdown",
   "id": "bf79bba4-138d-4937-810a-99ac2354ed4c",
   "metadata": {},
   "source": [
    "# Sentiment Analysis Using Various Approaches\n",
    "\n",
    "## Lexicon-based approach \n",
    "- Unsupervised learning\n",
    "- Based on calculating sentiment scores of words in a document from lexicons.\n",
    "- Each word's sentiment is determined, and the scores are combined to calculate the overall sentiment of the sentence. \n",
    "- A lexicon is a dictionary that contains a collection of words that is categorized as positive, negative, and neutral by experts. Their scores can change over time.\n",
    "- Only those words listed in the lexicon will actually be scored.\n",
    "- Disadvantages: words that are not in the lexicon will not be scored; some lexicons might be better suited for a specific use; it overlooks negation (lexicons only match words and not phrases, ie \"not bad\" is scored more negative instead of neutral)"
   ]
  },
  {
   "cell_type": "code",
   "execution_count": 87,
   "id": "c66c1d2d-5190-4a5b-a4dd-08e620fd81f7",
   "metadata": {
    "scrolled": true
   },
   "outputs": [],
   "source": [
    "import numpy as np \n",
    "import pandas as pd\n",
    "import json\n",
    "import time\n",
    "import re\n",
    "\n",
    "# Text cleaning\n",
    "from nltk import sent_tokenize, word_tokenize, regexp_tokenize\n",
    "from nltk.corpus import stopwords\n",
    "from nltk.stem import WordNetLemmatizer\n",
    "\n",
    "# NLTK Bing Liu Lexicon \n",
    "import nltk\n",
    "# nltk.download('opinion_lexicon')\n",
    "from nltk.corpus import opinion_lexicon\n",
    "from nltk.tokenize import word_tokenize \n",
    "\n",
    "# VADER \n",
    "import nltk\n",
    "# nltk.download('vader_lexicon')\n",
    "from nltk.sentiment.vader import SentimentIntensityAnalyzer\n",
    "from sklearn.metrics import accuracy_score, confusion_matrix\n",
    "\n",
    "# Supervised learning \n",
    "from sklearn.model_selection import train_test_split, RandomizedSearchCV\n",
    "from sklearn.linear_model import LogisticRegression\n",
    "from sklearn.metrics import accuracy_score, classification_report, roc_auc_score, roc_curve\n",
    "import matplotlib.pyplot as plt\n",
    "from sklearn.naive_bayes import MultinomialNB\n",
    "from sklearn.pipeline import Pipeline \n",
    "from sklearn.svm import LinearSVC\n",
    "\n",
    "# Text Vectorization\n",
    "from sklearn.feature_extraction.text import TfidfVectorizer"
   ]
  },
  {
   "cell_type": "markdown",
   "id": "ad46dc4d-99a0-42a2-86e1-2be2a26e242b",
   "metadata": {},
   "source": [
    "## Loading a subset of reviews and meta data"
   ]
  },
  {
   "cell_type": "code",
   "execution_count": 2,
   "id": "30beeb6b-563d-4b90-aeed-7ad12b45e2f2",
   "metadata": {},
   "outputs": [],
   "source": [
    "n = 1 \n",
    "total_rows = 0\n",
    "\n",
    "def process_chunks(file, chunksize = 1000):\n",
    "\n",
    "    # Setting as global variables\n",
    "    global n, total_rows  \n",
    "    \n",
    "    chunks = pd.read_json(file, lines=True, chunksize = chunksize)\n",
    "    dfs = []  \n",
    "    n_chunks = 0\n",
    "\n",
    "    for chunk in chunks:\n",
    "        dfs.append(chunk)\n",
    "        n_chunks += 1  # Count the number of chunks processed\n",
    "        print(len(chunk), \" rows added\")\n",
    "        n += 1 \n",
    "        total_rows += len(chunk)\n",
    "        if n_chunks >= 10:  # Process only the first 5 chunks\n",
    "            break  \n",
    "            \n",
    "    print(\"Done\")\n",
    "    print(\"Total rows:\", total_rows)\n",
    "    return pd.concat(dfs, ignore_index=True)"
   ]
  },
  {
   "cell_type": "code",
   "execution_count": 3,
   "id": "68a6d07d-3148-430b-be2f-6889f87b8375",
   "metadata": {
    "scrolled": true
   },
   "outputs": [
    {
     "name": "stdout",
     "output_type": "stream",
     "text": [
      "1000  rows added\n",
      "1000  rows added\n",
      "1000  rows added\n",
      "1000  rows added\n",
      "1000  rows added\n",
      "1000  rows added\n",
      "1000  rows added\n",
      "1000  rows added\n",
      "1000  rows added\n",
      "1000  rows added\n",
      "Done\n",
      "Total rows: 10000\n",
      "Created a subset of the reviews dataset\n",
      "Execution time: 0.21875 seconds\n",
      "--------------\n",
      "1000  rows added\n",
      "1000  rows added\n",
      "1000  rows added\n",
      "1000  rows added\n",
      "1000  rows added\n",
      "1000  rows added\n",
      "1000  rows added\n",
      "1000  rows added\n",
      "1000  rows added\n",
      "1000  rows added\n",
      "Done\n",
      "Total rows: 20000\n",
      "Created a subset of the meta dataset\n",
      "Execution time: 1.078125 seconds\n"
     ]
    }
   ],
   "source": [
    "reviews = \"../data/Home_and_Kitchen.jsonl\"\n",
    "meta = \"../data/meta_Home_and_Kitchen.jsonl\"\n",
    "\n",
    "start = time.process_time()\n",
    "\n",
    "reviews_subset = process_chunks(reviews)\n",
    "\n",
    "end = time.process_time()\n",
    "elapsed_time = end - start\n",
    "print('Created a subset of the reviews dataset')\n",
    "print('Execution time:', elapsed_time, 'seconds')\n",
    "\n",
    "print('--------------')\n",
    "start = time.process_time()\n",
    "\n",
    "meta_subset = process_chunks(meta)\n",
    "\n",
    "end = time.process_time()\n",
    "elapsed_time = end - start\n",
    "print('Created a subset of the meta dataset')\n",
    "print('Execution time:', elapsed_time, 'seconds')"
   ]
  },
  {
   "cell_type": "code",
   "execution_count": 4,
   "id": "54459d30-0e0f-4b8b-be54-26d88bec01eb",
   "metadata": {
    "scrolled": true
   },
   "outputs": [
    {
     "data": {
      "text/html": [
       "<div>\n",
       "<style scoped>\n",
       "    .dataframe tbody tr th:only-of-type {\n",
       "        vertical-align: middle;\n",
       "    }\n",
       "\n",
       "    .dataframe tbody tr th {\n",
       "        vertical-align: top;\n",
       "    }\n",
       "\n",
       "    .dataframe thead th {\n",
       "        text-align: right;\n",
       "    }\n",
       "</style>\n",
       "<table border=\"1\" class=\"dataframe\">\n",
       "  <thead>\n",
       "    <tr style=\"text-align: right;\">\n",
       "      <th></th>\n",
       "      <th>rating</th>\n",
       "      <th>title</th>\n",
       "      <th>text</th>\n",
       "      <th>images</th>\n",
       "      <th>asin</th>\n",
       "      <th>parent_asin</th>\n",
       "      <th>user_id</th>\n",
       "      <th>timestamp</th>\n",
       "      <th>helpful_vote</th>\n",
       "      <th>verified_purchase</th>\n",
       "    </tr>\n",
       "  </thead>\n",
       "  <tbody>\n",
       "    <tr>\n",
       "      <th>0</th>\n",
       "      <td>1</td>\n",
       "      <td>Received Used &amp; scratched item! Purchased new!</td>\n",
       "      <td>Livid.  Once again received an obviously used ...</td>\n",
       "      <td>[]</td>\n",
       "      <td>B007WQ9YNO</td>\n",
       "      <td>B09XWYG6X1</td>\n",
       "      <td>AFKZENTNBQ7A7V7UXW5JJI6UGRYQ</td>\n",
       "      <td>2023-02-26 01:03:29.298</td>\n",
       "      <td>1</td>\n",
       "      <td>True</td>\n",
       "    </tr>\n",
       "    <tr>\n",
       "      <th>1</th>\n",
       "      <td>5</td>\n",
       "      <td>Excellent for moving &amp; storage &amp; floods!</td>\n",
       "      <td>I purchased these for multiple reasons. The ma...</td>\n",
       "      <td>[]</td>\n",
       "      <td>B09H2VJW6K</td>\n",
       "      <td>B0BXDLF8TW</td>\n",
       "      <td>AFKZENTNBQ7A7V7UXW5JJI6UGRYQ</td>\n",
       "      <td>2022-12-26 08:30:10.846</td>\n",
       "      <td>0</td>\n",
       "      <td>True</td>\n",
       "    </tr>\n",
       "    <tr>\n",
       "      <th>2</th>\n",
       "      <td>2</td>\n",
       "      <td>Lid very loose- needs a gasket imo. Small base.</td>\n",
       "      <td>[[VIDEOID:c87e962bc893a948856b0f1b285ce6cc]] I...</td>\n",
       "      <td>[{'small_image_url': 'https://m.media-amazon.c...</td>\n",
       "      <td>B07RL297VR</td>\n",
       "      <td>B09G2PW8ZG</td>\n",
       "      <td>AFKZENTNBQ7A7V7UXW5JJI6UGRYQ</td>\n",
       "      <td>2022-05-25 02:54:56.788</td>\n",
       "      <td>0</td>\n",
       "      <td>True</td>\n",
       "    </tr>\n",
       "  </tbody>\n",
       "</table>\n",
       "</div>"
      ],
      "text/plain": [
       "   rating                                            title  \\\n",
       "0       1   Received Used & scratched item! Purchased new!   \n",
       "1       5         Excellent for moving & storage & floods!   \n",
       "2       2  Lid very loose- needs a gasket imo. Small base.   \n",
       "\n",
       "                                                text  \\\n",
       "0  Livid.  Once again received an obviously used ...   \n",
       "1  I purchased these for multiple reasons. The ma...   \n",
       "2  [[VIDEOID:c87e962bc893a948856b0f1b285ce6cc]] I...   \n",
       "\n",
       "                                              images        asin parent_asin  \\\n",
       "0                                                 []  B007WQ9YNO  B09XWYG6X1   \n",
       "1                                                 []  B09H2VJW6K  B0BXDLF8TW   \n",
       "2  [{'small_image_url': 'https://m.media-amazon.c...  B07RL297VR  B09G2PW8ZG   \n",
       "\n",
       "                        user_id               timestamp  helpful_vote  \\\n",
       "0  AFKZENTNBQ7A7V7UXW5JJI6UGRYQ 2023-02-26 01:03:29.298             1   \n",
       "1  AFKZENTNBQ7A7V7UXW5JJI6UGRYQ 2022-12-26 08:30:10.846             0   \n",
       "2  AFKZENTNBQ7A7V7UXW5JJI6UGRYQ 2022-05-25 02:54:56.788             0   \n",
       "\n",
       "   verified_purchase  \n",
       "0               True  \n",
       "1               True  \n",
       "2               True  "
      ]
     },
     "execution_count": 4,
     "metadata": {},
     "output_type": "execute_result"
    }
   ],
   "source": [
    "reviews_subset.head(3)"
   ]
  },
  {
   "cell_type": "code",
   "execution_count": 5,
   "id": "72cc77c3-d099-4286-9ad9-a0ac30021156",
   "metadata": {
    "scrolled": true
   },
   "outputs": [
    {
     "data": {
      "text/plain": [
       "Index(['rating', 'title', 'text', 'images', 'asin', 'parent_asin', 'user_id',\n",
       "       'timestamp', 'helpful_vote', 'verified_purchase'],\n",
       "      dtype='object')"
      ]
     },
     "execution_count": 5,
     "metadata": {},
     "output_type": "execute_result"
    }
   ],
   "source": [
    "reviews_subset.columns"
   ]
  },
  {
   "cell_type": "markdown",
   "id": "cd4824a8-b9ea-43cf-a93c-e2d2f9bac0bc",
   "metadata": {},
   "source": [
    "## Text Cleaning - spaCy"
   ]
  },
  {
   "cell_type": "code",
   "execution_count": 6,
   "id": "cbe84fe7-0d46-4104-a006-173d7681d4f1",
   "metadata": {},
   "outputs": [
    {
     "name": "stdout",
     "output_type": "stream",
     "text": [
      "Original stopwords count: 326\n"
     ]
    }
   ],
   "source": [
    "import spacy \n",
    "nlp = spacy.load('en_core_web_sm')\n",
    "stop_words = spacy.lang.en.stop_words.STOP_WORDS\n",
    "print('Original stopwords count:', len(stop_words))"
   ]
  },
  {
   "cell_type": "code",
   "execution_count": 7,
   "id": "58cb3820-3f0d-4d8c-bfdf-bb545d1b81e4",
   "metadata": {},
   "outputs": [
    {
     "name": "stdout",
     "output_type": "stream",
     "text": [
      "{'third', 'empty', 'latter', 'whereafter', 'last', 'top', 'many', 'whole', 'due', 'serious', 'such', 'various', 'least', 'full', 'other', 'several', 'former', 'own', 'same'}\n",
      "Stopwords count: 301\n"
     ]
    }
   ],
   "source": [
    "# Updating my stopwords list \n",
    "stop_words = spacy.lang.en.stop_words.STOP_WORDS\n",
    "\n",
    "# Include/ exclude certain words\n",
    "include_stopwords = {'would', 'I'}\n",
    "exclude_stopwords = {'i', 'well', 'off', 'very', 'not', 'few', 'much'}\n",
    "\n",
    "stop_words |= include_stopwords\n",
    "stop_words -= exclude_stopwords\n",
    "\n",
    "# Remove adjectives from my stopwords using spaCy\n",
    "exclude_adjectives = {word for word in stop_words if nlp(word)[0].pos_ == \"ADJ\"}\n",
    "print(exclude_adjectives)\n",
    "\n",
    "stop_words -= exclude_adjectives\n",
    "print('Stopwords count:', len(stop_words))"
   ]
  },
  {
   "cell_type": "code",
   "execution_count": 8,
   "id": "4409d870-e176-4674-8a86-7a60bc28fc22",
   "metadata": {},
   "outputs": [],
   "source": [
    "def clean_data(doc):\n",
    "    doc = doc.lower()\n",
    "    doc = nlp(doc)\n",
    "    # Lemmatize words \n",
    "    lemmas = [token.lemma_ for token in doc]\n",
    "    # Removing non-alphabetic characters and stopwords\n",
    "    tokens = [lemma for lemma in lemmas if lemma.isalpha() and lemma not in stop_words]\n",
    "    cleaned_doc = \" \".join(tokens)\n",
    "    \n",
    "    return cleaned_doc"
   ]
  },
  {
   "cell_type": "code",
   "execution_count": 9,
   "id": "0e106305-aa14-4e9b-a426-b7bbd2f03874",
   "metadata": {},
   "outputs": [],
   "source": [
    "lemmatizer = WordNetLemmatizer()\n",
    "stopwords = set(stopwords.words('english'))\n",
    "\n",
    "# Update stopwords\n",
    "include_stopwords = {'would', 'I', 'not'}\n",
    "exclude_stopwords = {'i'}\n",
    "\n",
    "stopwords |= include_stopwords\n",
    "stopwords -= exclude_stopwords\n",
    "\n",
    "def preprocess_text(text):\n",
    "    text = text.lower()  # Lowercase text\n",
    "    text = re.sub(r'[^a-zA-Z\\s]', '', text)  # Remove punctuation and numbers\n",
    "    tokens = text.split()  # Create tokens \n",
    "    clean_tokens = [lemmatizer.lemmatize(t) for t in tokens if t not in stopwords]  # Lemmatize and remove stop words\n",
    "    clean_text = \" \".join(clean_tokens)  # Join clean tokens\n",
    "    clean_text = \" \".join(clean_text.split())  # Remove extra spaces, tabs, and new lines\n",
    "    \n",
    "    return clean_text"
   ]
  },
  {
   "cell_type": "code",
   "execution_count": 10,
   "id": "6891812e-5019-4326-8815-2fdc98966844",
   "metadata": {},
   "outputs": [],
   "source": [
    "cleaned_text = reviews_subset.copy()\n",
    "cleaned_text['spacy_text'] = cleaned_text['text'].apply(clean_data)\n",
    "cleaned_text['nltk_text'] = cleaned_text['text'].apply(preprocess_text)"
   ]
  },
  {
   "cell_type": "code",
   "execution_count": 11,
   "id": "718496cc-0619-4be2-aa5b-e557454c309b",
   "metadata": {
    "scrolled": true
   },
   "outputs": [
    {
     "data": {
      "text/html": [
       "<div>\n",
       "<style scoped>\n",
       "    .dataframe tbody tr th:only-of-type {\n",
       "        vertical-align: middle;\n",
       "    }\n",
       "\n",
       "    .dataframe tbody tr th {\n",
       "        vertical-align: top;\n",
       "    }\n",
       "\n",
       "    .dataframe thead th {\n",
       "        text-align: right;\n",
       "    }\n",
       "</style>\n",
       "<table border=\"1\" class=\"dataframe\">\n",
       "  <thead>\n",
       "    <tr style=\"text-align: right;\">\n",
       "      <th></th>\n",
       "      <th>rating</th>\n",
       "      <th>title</th>\n",
       "      <th>text</th>\n",
       "      <th>images</th>\n",
       "      <th>asin</th>\n",
       "      <th>parent_asin</th>\n",
       "      <th>user_id</th>\n",
       "      <th>timestamp</th>\n",
       "      <th>helpful_vote</th>\n",
       "      <th>verified_purchase</th>\n",
       "      <th>spacy_text</th>\n",
       "      <th>nltk_text</th>\n",
       "    </tr>\n",
       "  </thead>\n",
       "  <tbody>\n",
       "    <tr>\n",
       "      <th>0</th>\n",
       "      <td>1</td>\n",
       "      <td>Received Used &amp; scratched item! Purchased new!</td>\n",
       "      <td>Livid.  Once again received an obviously used ...</td>\n",
       "      <td>[]</td>\n",
       "      <td>B007WQ9YNO</td>\n",
       "      <td>B09XWYG6X1</td>\n",
       "      <td>AFKZENTNBQ7A7V7UXW5JJI6UGRYQ</td>\n",
       "      <td>2023-02-26 01:03:29.298</td>\n",
       "      <td>1</td>\n",
       "      <td>True</td>\n",
       "      <td>livid receive obviously use item food scratch ...</td>\n",
       "      <td>livid received obviously used item food scratc...</td>\n",
       "    </tr>\n",
       "    <tr>\n",
       "      <th>1</th>\n",
       "      <td>5</td>\n",
       "      <td>Excellent for moving &amp; storage &amp; floods!</td>\n",
       "      <td>I purchased these for multiple reasons. The ma...</td>\n",
       "      <td>[]</td>\n",
       "      <td>B09H2VJW6K</td>\n",
       "      <td>B0BXDLF8TW</td>\n",
       "      <td>AFKZENTNBQ7A7V7UXW5JJI6UGRYQ</td>\n",
       "      <td>2022-12-26 08:30:10.846</td>\n",
       "      <td>0</td>\n",
       "      <td>True</td>\n",
       "      <td>purchase multiple reason main reason bc apt fl...</td>\n",
       "      <td>i purchased multiple reason main reason i movi...</td>\n",
       "    </tr>\n",
       "    <tr>\n",
       "      <th>2</th>\n",
       "      <td>2</td>\n",
       "      <td>Lid very loose- needs a gasket imo. Small base.</td>\n",
       "      <td>[[VIDEOID:c87e962bc893a948856b0f1b285ce6cc]] I...</td>\n",
       "      <td>[{'small_image_url': 'https://m.media-amazon.c...</td>\n",
       "      <td>B07RL297VR</td>\n",
       "      <td>B09G2PW8ZG</td>\n",
       "      <td>AFKZENTNBQ7A7V7UXW5JJI6UGRYQ</td>\n",
       "      <td>2022-05-25 02:54:56.788</td>\n",
       "      <td>0</td>\n",
       "      <td>True</td>\n",
       "      <td>videoid want love bc previously buy matching t...</td>\n",
       "      <td>videoidcebcabfbcecc i wanted love bc i previou...</td>\n",
       "    </tr>\n",
       "  </tbody>\n",
       "</table>\n",
       "</div>"
      ],
      "text/plain": [
       "   rating                                            title  \\\n",
       "0       1   Received Used & scratched item! Purchased new!   \n",
       "1       5         Excellent for moving & storage & floods!   \n",
       "2       2  Lid very loose- needs a gasket imo. Small base.   \n",
       "\n",
       "                                                text  \\\n",
       "0  Livid.  Once again received an obviously used ...   \n",
       "1  I purchased these for multiple reasons. The ma...   \n",
       "2  [[VIDEOID:c87e962bc893a948856b0f1b285ce6cc]] I...   \n",
       "\n",
       "                                              images        asin parent_asin  \\\n",
       "0                                                 []  B007WQ9YNO  B09XWYG6X1   \n",
       "1                                                 []  B09H2VJW6K  B0BXDLF8TW   \n",
       "2  [{'small_image_url': 'https://m.media-amazon.c...  B07RL297VR  B09G2PW8ZG   \n",
       "\n",
       "                        user_id               timestamp  helpful_vote  \\\n",
       "0  AFKZENTNBQ7A7V7UXW5JJI6UGRYQ 2023-02-26 01:03:29.298             1   \n",
       "1  AFKZENTNBQ7A7V7UXW5JJI6UGRYQ 2022-12-26 08:30:10.846             0   \n",
       "2  AFKZENTNBQ7A7V7UXW5JJI6UGRYQ 2022-05-25 02:54:56.788             0   \n",
       "\n",
       "   verified_purchase                                         spacy_text  \\\n",
       "0               True  livid receive obviously use item food scratch ...   \n",
       "1               True  purchase multiple reason main reason bc apt fl...   \n",
       "2               True  videoid want love bc previously buy matching t...   \n",
       "\n",
       "                                           nltk_text  \n",
       "0  livid received obviously used item food scratc...  \n",
       "1  i purchased multiple reason main reason i movi...  \n",
       "2  videoidcebcabfbcecc i wanted love bc i previou...  "
      ]
     },
     "execution_count": 11,
     "metadata": {},
     "output_type": "execute_result"
    }
   ],
   "source": [
    "cleaned_text.head(3)"
   ]
  },
  {
   "cell_type": "markdown",
   "id": "59e2b460-9175-483a-bc8a-ee691ff89e61",
   "metadata": {},
   "source": [
    "## Feature Engineering \n",
    "\n",
    "Create new features: word count, average word length, exclamation mark count."
   ]
  },
  {
   "cell_type": "code",
   "execution_count": 12,
   "id": "6b41804b-742d-4359-84e4-7a998dd67937",
   "metadata": {},
   "outputs": [],
   "source": [
    "# Word count\n",
    "def word_count(text):\n",
    "    words = text.split()\n",
    "    return len(words)"
   ]
  },
  {
   "cell_type": "code",
   "execution_count": 13,
   "id": "27b98965-e885-41e7-b772-a1752738a9ed",
   "metadata": {},
   "outputs": [],
   "source": [
    "# Average word length \n",
    "def avg_word_length(text):\n",
    "    words = text.split()\n",
    "    word_lengths = [len(word) for word in words]\n",
    "    avg_word_length = sum(word_lengths)/len(words)\n",
    "    \n",
    "    return(avg_word_length)    "
   ]
  },
  {
   "cell_type": "code",
   "execution_count": 14,
   "id": "641b1f92-21fc-4067-a592-edef44b29449",
   "metadata": {},
   "outputs": [],
   "source": [
    "# Exclamation mark count \n",
    "def exclamation_count(text):\n",
    "    doc = nlp(text)\n",
    "    exclamations = []\n",
    "    for token in doc: \n",
    "        if token.text == '!':\n",
    "            exclamations.append(token.text)\n",
    "    return len(exclamations)"
   ]
  },
  {
   "cell_type": "markdown",
   "id": "97a4d30c-c991-4605-be1f-c9b401061210",
   "metadata": {},
   "source": [
    "## Bing Liu Lexicon\n",
    "\n",
    "The Bing Liu lexicon has a total of 6, 786 words with 2,005 classified as positive and 4,781 as negative. CLassification is binary (positive or negative)."
   ]
  },
  {
   "cell_type": "code",
   "execution_count": 15,
   "id": "b5887a47-ad06-4241-b7ce-5fa7f40bd806",
   "metadata": {},
   "outputs": [
    {
     "name": "stdout",
     "output_type": "stream",
     "text": [
      "Total number of words in opinion lexicon 6789\n",
      "Examples of positive words: ['a+', 'abound', 'abounds', 'abundance', 'abundant', 'accessable', 'accessible', 'acclaim', 'acclaimed', 'acclamation']\n",
      "Examples of negative words: ['2-faced', '2-faces', 'abnormal', 'abolish', 'abominable', 'abominably', 'abominate', 'abomination', 'abort', 'aborted']\n"
     ]
    }
   ],
   "source": [
    "print('Total number of words in opinion lexicon', len(opinion_lexicon.words()))\n",
    "print('Examples of positive words:', opinion_lexicon.positive()[:10])\n",
    "print('Examples of negative words:', opinion_lexicon.negative()[:10])"
   ]
  },
  {
   "cell_type": "code",
   "execution_count": 16,
   "id": "41e75ef3-dbe2-493f-86a5-91a5a010d001",
   "metadata": {},
   "outputs": [],
   "source": [
    "pos_score = 1\n",
    "neg_score = -1\n",
    "word_dict = {}\n",
    "\n",
    "# Adding the positive words to the dictionary\n",
    "for word in opinion_lexicon.positive():\n",
    "    word_dict[word] = pos_score \n",
    "\n",
    "# Adding the negative words to the dictionary \n",
    "for word in opinion_lexicon.negative():\n",
    "    word_dict[word] = neg_score \n",
    "\n",
    "def bing_liu_score(text):\n",
    "    sentiment_score = 0 \n",
    "    bag_of_words = word_tokenize(text.lower())\n",
    "\n",
    "    # Check if bag_of_words is empty\n",
    "    if bag_of_words: \n",
    "        for word in bag_of_words: \n",
    "            if word in word_dict: \n",
    "                sentiment_score += word_dict[word]\n",
    "        return sentiment_score / len(bag_of_words)\n",
    "    else: \n",
    "        return 0"
   ]
  },
  {
   "cell_type": "code",
   "execution_count": 17,
   "id": "91a39dd6-e6a5-4996-9102-8a7131a4cc02",
   "metadata": {
    "scrolled": true
   },
   "outputs": [
    {
     "data": {
      "text/html": [
       "<div>\n",
       "<style scoped>\n",
       "    .dataframe tbody tr th:only-of-type {\n",
       "        vertical-align: middle;\n",
       "    }\n",
       "\n",
       "    .dataframe tbody tr th {\n",
       "        vertical-align: top;\n",
       "    }\n",
       "\n",
       "    .dataframe thead th {\n",
       "        text-align: right;\n",
       "    }\n",
       "</style>\n",
       "<table border=\"1\" class=\"dataframe\">\n",
       "  <thead>\n",
       "    <tr style=\"text-align: right;\">\n",
       "      <th></th>\n",
       "      <th>rating</th>\n",
       "      <th>title</th>\n",
       "      <th>text</th>\n",
       "      <th>images</th>\n",
       "      <th>asin</th>\n",
       "      <th>parent_asin</th>\n",
       "      <th>user_id</th>\n",
       "      <th>timestamp</th>\n",
       "      <th>helpful_vote</th>\n",
       "      <th>verified_purchase</th>\n",
       "      <th>spacy_text</th>\n",
       "      <th>nltk_text</th>\n",
       "      <th>Bing_Liu_score</th>\n",
       "      <th>Bing_Liu_spaCy</th>\n",
       "      <th>Bing_Liu_nltk</th>\n",
       "    </tr>\n",
       "  </thead>\n",
       "  <tbody>\n",
       "    <tr>\n",
       "      <th>0</th>\n",
       "      <td>1</td>\n",
       "      <td>Received Used &amp; scratched item! Purchased new!</td>\n",
       "      <td>Livid.  Once again received an obviously used ...</td>\n",
       "      <td>[]</td>\n",
       "      <td>B007WQ9YNO</td>\n",
       "      <td>B09XWYG6X1</td>\n",
       "      <td>AFKZENTNBQ7A7V7UXW5JJI6UGRYQ</td>\n",
       "      <td>2023-02-26 01:03:29.298</td>\n",
       "      <td>1</td>\n",
       "      <td>True</td>\n",
       "      <td>livid receive obviously use item food scratch ...</td>\n",
       "      <td>livid received obviously used item food scratc...</td>\n",
       "      <td>-0.085714</td>\n",
       "      <td>-0.187500</td>\n",
       "      <td>-0.187500</td>\n",
       "    </tr>\n",
       "    <tr>\n",
       "      <th>1</th>\n",
       "      <td>5</td>\n",
       "      <td>Excellent for moving &amp; storage &amp; floods!</td>\n",
       "      <td>I purchased these for multiple reasons. The ma...</td>\n",
       "      <td>[]</td>\n",
       "      <td>B09H2VJW6K</td>\n",
       "      <td>B0BXDLF8TW</td>\n",
       "      <td>AFKZENTNBQ7A7V7UXW5JJI6UGRYQ</td>\n",
       "      <td>2022-12-26 08:30:10.846</td>\n",
       "      <td>0</td>\n",
       "      <td>True</td>\n",
       "      <td>purchase multiple reason main reason bc apt fl...</td>\n",
       "      <td>i purchased multiple reason main reason i movi...</td>\n",
       "      <td>-0.006568</td>\n",
       "      <td>-0.021459</td>\n",
       "      <td>-0.019868</td>\n",
       "    </tr>\n",
       "    <tr>\n",
       "      <th>2</th>\n",
       "      <td>2</td>\n",
       "      <td>Lid very loose- needs a gasket imo. Small base.</td>\n",
       "      <td>[[VIDEOID:c87e962bc893a948856b0f1b285ce6cc]] I...</td>\n",
       "      <td>[{'small_image_url': 'https://m.media-amazon.c...</td>\n",
       "      <td>B07RL297VR</td>\n",
       "      <td>B09G2PW8ZG</td>\n",
       "      <td>AFKZENTNBQ7A7V7UXW5JJI6UGRYQ</td>\n",
       "      <td>2022-05-25 02:54:56.788</td>\n",
       "      <td>0</td>\n",
       "      <td>True</td>\n",
       "      <td>videoid want love bc previously buy matching t...</td>\n",
       "      <td>videoidcebcabfbcecc i wanted love bc i previou...</td>\n",
       "      <td>-0.008287</td>\n",
       "      <td>-0.029851</td>\n",
       "      <td>-0.016949</td>\n",
       "    </tr>\n",
       "    <tr>\n",
       "      <th>3</th>\n",
       "      <td>5</td>\n",
       "      <td>Best purchase ever!</td>\n",
       "      <td>If you live at a higher elevation like me (5k ...</td>\n",
       "      <td>[{'small_image_url': 'https://m.media-amazon.c...</td>\n",
       "      <td>B09CQF4SWV</td>\n",
       "      <td>B08CSZDXZY</td>\n",
       "      <td>AFKZENTNBQ7A7V7UXW5JJI6UGRYQ</td>\n",
       "      <td>2022-05-06 16:38:16.178</td>\n",
       "      <td>0</td>\n",
       "      <td>True</td>\n",
       "      <td>live high elevation like colorado know buzzer ...</td>\n",
       "      <td>live higher elevation like k colorado know buz...</td>\n",
       "      <td>0.006316</td>\n",
       "      <td>-0.029586</td>\n",
       "      <td>0.009615</td>\n",
       "    </tr>\n",
       "    <tr>\n",
       "      <th>4</th>\n",
       "      <td>5</td>\n",
       "      <td>Excellent for yarn!</td>\n",
       "      <td>I use these to store yarn. They easily hold 12...</td>\n",
       "      <td>[{'small_image_url': 'https://images-na.ssl-im...</td>\n",
       "      <td>B003U6A3EY</td>\n",
       "      <td>B0C6V27S6N</td>\n",
       "      <td>AFKZENTNBQ7A7V7UXW5JJI6UGRYQ</td>\n",
       "      <td>2020-05-20 00:28:45.940</td>\n",
       "      <td>1</td>\n",
       "      <td>True</td>\n",
       "      <td>use store yarn easily hold ounce bernat pipsqu...</td>\n",
       "      <td>i use store yarn easily hold ounce bernat pips...</td>\n",
       "      <td>0.035294</td>\n",
       "      <td>0.058824</td>\n",
       "      <td>0.075000</td>\n",
       "    </tr>\n",
       "  </tbody>\n",
       "</table>\n",
       "</div>"
      ],
      "text/plain": [
       "   rating                                            title  \\\n",
       "0       1   Received Used & scratched item! Purchased new!   \n",
       "1       5         Excellent for moving & storage & floods!   \n",
       "2       2  Lid very loose- needs a gasket imo. Small base.   \n",
       "3       5                              Best purchase ever!   \n",
       "4       5                              Excellent for yarn!   \n",
       "\n",
       "                                                text  \\\n",
       "0  Livid.  Once again received an obviously used ...   \n",
       "1  I purchased these for multiple reasons. The ma...   \n",
       "2  [[VIDEOID:c87e962bc893a948856b0f1b285ce6cc]] I...   \n",
       "3  If you live at a higher elevation like me (5k ...   \n",
       "4  I use these to store yarn. They easily hold 12...   \n",
       "\n",
       "                                              images        asin parent_asin  \\\n",
       "0                                                 []  B007WQ9YNO  B09XWYG6X1   \n",
       "1                                                 []  B09H2VJW6K  B0BXDLF8TW   \n",
       "2  [{'small_image_url': 'https://m.media-amazon.c...  B07RL297VR  B09G2PW8ZG   \n",
       "3  [{'small_image_url': 'https://m.media-amazon.c...  B09CQF4SWV  B08CSZDXZY   \n",
       "4  [{'small_image_url': 'https://images-na.ssl-im...  B003U6A3EY  B0C6V27S6N   \n",
       "\n",
       "                        user_id               timestamp  helpful_vote  \\\n",
       "0  AFKZENTNBQ7A7V7UXW5JJI6UGRYQ 2023-02-26 01:03:29.298             1   \n",
       "1  AFKZENTNBQ7A7V7UXW5JJI6UGRYQ 2022-12-26 08:30:10.846             0   \n",
       "2  AFKZENTNBQ7A7V7UXW5JJI6UGRYQ 2022-05-25 02:54:56.788             0   \n",
       "3  AFKZENTNBQ7A7V7UXW5JJI6UGRYQ 2022-05-06 16:38:16.178             0   \n",
       "4  AFKZENTNBQ7A7V7UXW5JJI6UGRYQ 2020-05-20 00:28:45.940             1   \n",
       "\n",
       "   verified_purchase                                         spacy_text  \\\n",
       "0               True  livid receive obviously use item food scratch ...   \n",
       "1               True  purchase multiple reason main reason bc apt fl...   \n",
       "2               True  videoid want love bc previously buy matching t...   \n",
       "3               True  live high elevation like colorado know buzzer ...   \n",
       "4               True  use store yarn easily hold ounce bernat pipsqu...   \n",
       "\n",
       "                                           nltk_text  Bing_Liu_score  \\\n",
       "0  livid received obviously used item food scratc...       -0.085714   \n",
       "1  i purchased multiple reason main reason i movi...       -0.006568   \n",
       "2  videoidcebcabfbcecc i wanted love bc i previou...       -0.008287   \n",
       "3  live higher elevation like k colorado know buz...        0.006316   \n",
       "4  i use store yarn easily hold ounce bernat pips...        0.035294   \n",
       "\n",
       "   Bing_Liu_spaCy  Bing_Liu_nltk  \n",
       "0       -0.187500      -0.187500  \n",
       "1       -0.021459      -0.019868  \n",
       "2       -0.029851      -0.016949  \n",
       "3       -0.029586       0.009615  \n",
       "4        0.058824       0.075000  "
      ]
     },
     "execution_count": 17,
     "metadata": {},
     "output_type": "execute_result"
    }
   ],
   "source": [
    "cleaned_text['Bing_Liu_score'] = cleaned_text['text'].apply(bing_liu_score)\n",
    "cleaned_text['Bing_Liu_spaCy'] = cleaned_text['spacy_text'].apply(bing_liu_score)\n",
    "cleaned_text['Bing_Liu_nltk'] = cleaned_text['nltk_text'].apply(bing_liu_score)\n",
    "cleaned_text.head(5)"
   ]
  },
  {
   "cell_type": "code",
   "execution_count": 18,
   "id": "f9ae872c-f422-45b0-a9bd-7cc4ab196396",
   "metadata": {},
   "outputs": [
    {
     "data": {
      "text/html": [
       "<div>\n",
       "<style scoped>\n",
       "    .dataframe tbody tr th:only-of-type {\n",
       "        vertical-align: middle;\n",
       "    }\n",
       "\n",
       "    .dataframe tbody tr th {\n",
       "        vertical-align: top;\n",
       "    }\n",
       "\n",
       "    .dataframe thead th {\n",
       "        text-align: right;\n",
       "    }\n",
       "</style>\n",
       "<table border=\"1\" class=\"dataframe\">\n",
       "  <thead>\n",
       "    <tr style=\"text-align: right;\">\n",
       "      <th></th>\n",
       "      <th>rating</th>\n",
       "      <th>text</th>\n",
       "      <th>Bing_Liu_score</th>\n",
       "      <th>Bing_Liu_spaCy</th>\n",
       "      <th>Bing_Liu_nltk</th>\n",
       "    </tr>\n",
       "  </thead>\n",
       "  <tbody>\n",
       "    <tr>\n",
       "      <th>6842</th>\n",
       "      <td>5</td>\n",
       "      <td>For years I have just made due without owning ...</td>\n",
       "      <td>0.000000</td>\n",
       "      <td>0.000000</td>\n",
       "      <td>0.007634</td>\n",
       "    </tr>\n",
       "    <tr>\n",
       "      <th>7032</th>\n",
       "      <td>5</td>\n",
       "      <td>These are by far the nicest sheets I have ever...</td>\n",
       "      <td>0.098039</td>\n",
       "      <td>0.176471</td>\n",
       "      <td>0.250000</td>\n",
       "    </tr>\n",
       "    <tr>\n",
       "      <th>3796</th>\n",
       "      <td>5</td>\n",
       "      <td>Perfect size for assisting with lobster dinner.</td>\n",
       "      <td>0.125000</td>\n",
       "      <td>0.200000</td>\n",
       "      <td>0.200000</td>\n",
       "    </tr>\n",
       "    <tr>\n",
       "      <th>4586</th>\n",
       "      <td>3</td>\n",
       "      <td>I love these rugs for their thickness But I ha...</td>\n",
       "      <td>0.000000</td>\n",
       "      <td>0.000000</td>\n",
       "      <td>0.000000</td>\n",
       "    </tr>\n",
       "    <tr>\n",
       "      <th>5815</th>\n",
       "      <td>5</td>\n",
       "      <td>This is such a cute tumbler! I ordered it for ...</td>\n",
       "      <td>0.064516</td>\n",
       "      <td>0.166667</td>\n",
       "      <td>0.173913</td>\n",
       "    </tr>\n",
       "  </tbody>\n",
       "</table>\n",
       "</div>"
      ],
      "text/plain": [
       "      rating                                               text  \\\n",
       "6842       5  For years I have just made due without owning ...   \n",
       "7032       5  These are by far the nicest sheets I have ever...   \n",
       "3796       5    Perfect size for assisting with lobster dinner.   \n",
       "4586       3  I love these rugs for their thickness But I ha...   \n",
       "5815       5  This is such a cute tumbler! I ordered it for ...   \n",
       "\n",
       "      Bing_Liu_score  Bing_Liu_spaCy  Bing_Liu_nltk  \n",
       "6842        0.000000        0.000000       0.007634  \n",
       "7032        0.098039        0.176471       0.250000  \n",
       "3796        0.125000        0.200000       0.200000  \n",
       "4586        0.000000        0.000000       0.000000  \n",
       "5815        0.064516        0.166667       0.173913  "
      ]
     },
     "execution_count": 18,
     "metadata": {},
     "output_type": "execute_result"
    }
   ],
   "source": [
    "cleaned_text[['rating', 'text', 'Bing_Liu_score', 'Bing_Liu_spaCy', 'Bing_Liu_nltk']].sample(5)"
   ]
  },
  {
   "cell_type": "code",
   "execution_count": 19,
   "id": "e23949f0-53f1-4a25-88a5-6115a2ba7668",
   "metadata": {
    "scrolled": true
   },
   "outputs": [
    {
     "data": {
      "text/html": [
       "<div>\n",
       "<style scoped>\n",
       "    .dataframe tbody tr th:only-of-type {\n",
       "        vertical-align: middle;\n",
       "    }\n",
       "\n",
       "    .dataframe tbody tr th {\n",
       "        vertical-align: top;\n",
       "    }\n",
       "\n",
       "    .dataframe thead th {\n",
       "        text-align: right;\n",
       "    }\n",
       "</style>\n",
       "<table border=\"1\" class=\"dataframe\">\n",
       "  <thead>\n",
       "    <tr style=\"text-align: right;\">\n",
       "      <th></th>\n",
       "      <th>rating</th>\n",
       "      <th>title</th>\n",
       "      <th>text</th>\n",
       "      <th>images</th>\n",
       "      <th>asin</th>\n",
       "      <th>parent_asin</th>\n",
       "      <th>user_id</th>\n",
       "      <th>timestamp</th>\n",
       "      <th>helpful_vote</th>\n",
       "      <th>verified_purchase</th>\n",
       "      <th>spacy_text</th>\n",
       "      <th>nltk_text</th>\n",
       "      <th>Bing_Liu_score</th>\n",
       "      <th>Bing_Liu_spaCy</th>\n",
       "      <th>Bing_Liu_nltk</th>\n",
       "    </tr>\n",
       "  </thead>\n",
       "  <tbody>\n",
       "    <tr>\n",
       "      <th>15</th>\n",
       "      <td>5</td>\n",
       "      <td>Perfect mattress</td>\n",
       "      <td>OK, we bought this mattress for our guest room...</td>\n",
       "      <td>[]</td>\n",
       "      <td>B0777K9RGX</td>\n",
       "      <td>B0BPBLYF85</td>\n",
       "      <td>AGGZ357AO26RQZVRLGU4D4N52DZQ</td>\n",
       "      <td>2020-01-06 02:16:33.373</td>\n",
       "      <td>0</td>\n",
       "      <td>True</td>\n",
       "      <td>ok buy mattress guest room wish mattress serio...</td>\n",
       "      <td>ok bought mattress guest room im wishing mattr...</td>\n",
       "      <td>0.000000</td>\n",
       "      <td>0.0</td>\n",
       "      <td>0.000000</td>\n",
       "    </tr>\n",
       "    <tr>\n",
       "      <th>19</th>\n",
       "      <td>5</td>\n",
       "      <td>Totally. Obsessed. With dehydrating food. Than...</td>\n",
       "      <td>This is really a great dehydrator - and so eas...</td>\n",
       "      <td>[]</td>\n",
       "      <td>B000FFVJ3C</td>\n",
       "      <td>B0B69XTPVL</td>\n",
       "      <td>AGGZ357AO26RQZVRLGU4D4N52DZQ</td>\n",
       "      <td>2012-12-05 03:04:18.000</td>\n",
       "      <td>1</td>\n",
       "      <td>True</td>\n",
       "      <td>great dehydrator easy use homemade trail mix u...</td>\n",
       "      <td>really great dehydrator easy use i make homema...</td>\n",
       "      <td>0.000000</td>\n",
       "      <td>0.0</td>\n",
       "      <td>-0.011494</td>\n",
       "    </tr>\n",
       "    <tr>\n",
       "      <th>25</th>\n",
       "      <td>4</td>\n",
       "      <td>Nice sparkly touch</td>\n",
       "      <td>Nice quality. A little pricey for the amount b...</td>\n",
       "      <td>[]</td>\n",
       "      <td>B01I3Q6BHS</td>\n",
       "      <td>B01I3Q6BHS</td>\n",
       "      <td>AGKASBHYZPGTEPO6LWZPVJWB2BVA</td>\n",
       "      <td>2017-01-30 15:35:05.000</td>\n",
       "      <td>0</td>\n",
       "      <td>True</td>\n",
       "      <td>nice quality little pricey reusable desire</td>\n",
       "      <td>nice quality little pricey amount also reusabl...</td>\n",
       "      <td>0.000000</td>\n",
       "      <td>0.0</td>\n",
       "      <td>0.000000</td>\n",
       "    </tr>\n",
       "    <tr>\n",
       "      <th>34</th>\n",
       "      <td>5</td>\n",
       "      <td>Smell My Pumpkin</td>\n",
       "      <td>Smells much better than the Smell My Nuts cand...</td>\n",
       "      <td>[]</td>\n",
       "      <td>B004FO2A78</td>\n",
       "      <td>B01KU4IFXO</td>\n",
       "      <td>AGCI7FAH4GL5FI65HYLKWTMFZ2CQ</td>\n",
       "      <td>2014-11-18 06:15:48.000</td>\n",
       "      <td>0</td>\n",
       "      <td>True</td>\n",
       "      <td>smell much well smell nuts candle buy father l...</td>\n",
       "      <td>smell much better smell nut candle i bought fa...</td>\n",
       "      <td>0.000000</td>\n",
       "      <td>0.0</td>\n",
       "      <td>0.000000</td>\n",
       "    </tr>\n",
       "    <tr>\n",
       "      <th>35</th>\n",
       "      <td>5</td>\n",
       "      <td>yay</td>\n",
       "      <td>happily loved by our 1 year old.  she makes fu...</td>\n",
       "      <td>[]</td>\n",
       "      <td>B00563XRYM</td>\n",
       "      <td>B00563XRYM</td>\n",
       "      <td>AGCI7FAH4GL5FI65HYLKWTMFZ2CQ</td>\n",
       "      <td>2013-11-20 01:54:13.000</td>\n",
       "      <td>0</td>\n",
       "      <td>True</td>\n",
       "      <td>happily love year old funny noise think funny ...</td>\n",
       "      <td>happily loved year old make funny noise think ...</td>\n",
       "      <td>0.000000</td>\n",
       "      <td>0.0</td>\n",
       "      <td>0.000000</td>\n",
       "    </tr>\n",
       "    <tr>\n",
       "      <th>...</th>\n",
       "      <td>...</td>\n",
       "      <td>...</td>\n",
       "      <td>...</td>\n",
       "      <td>...</td>\n",
       "      <td>...</td>\n",
       "      <td>...</td>\n",
       "      <td>...</td>\n",
       "      <td>...</td>\n",
       "      <td>...</td>\n",
       "      <td>...</td>\n",
       "      <td>...</td>\n",
       "      <td>...</td>\n",
       "      <td>...</td>\n",
       "      <td>...</td>\n",
       "      <td>...</td>\n",
       "    </tr>\n",
       "    <tr>\n",
       "      <th>9972</th>\n",
       "      <td>5</td>\n",
       "      <td>Sturdy and decorative.</td>\n",
       "      <td>I love these so much that I've purchased 3 set...</td>\n",
       "      <td>[]</td>\n",
       "      <td>B08GTTM7G7</td>\n",
       "      <td>B08GTTM7G7</td>\n",
       "      <td>AE57MRF2R2ALCC6H5WQLFKT7KSSA</td>\n",
       "      <td>2021-12-02 23:08:30.693</td>\n",
       "      <td>0</td>\n",
       "      <td>True</td>\n",
       "      <td>love much purchase set other gift live humid f...</td>\n",
       "      <td>i love much ive purchased set others gift i li...</td>\n",
       "      <td>0.000000</td>\n",
       "      <td>0.0</td>\n",
       "      <td>0.000000</td>\n",
       "    </tr>\n",
       "    <tr>\n",
       "      <th>9976</th>\n",
       "      <td>5</td>\n",
       "      <td>Does the job!</td>\n",
       "      <td>Just what I was looking for.</td>\n",
       "      <td>[]</td>\n",
       "      <td>B0765BTD13</td>\n",
       "      <td>B0BWJ277SP</td>\n",
       "      <td>AE57MRF2R2ALCC6H5WQLFKT7KSSA</td>\n",
       "      <td>2021-03-05 15:23:36.385</td>\n",
       "      <td>0</td>\n",
       "      <td>True</td>\n",
       "      <td>look</td>\n",
       "      <td>i looking</td>\n",
       "      <td>0.000000</td>\n",
       "      <td>0.0</td>\n",
       "      <td>0.000000</td>\n",
       "    </tr>\n",
       "    <tr>\n",
       "      <th>9979</th>\n",
       "      <td>1</td>\n",
       "      <td>IT INTERFERS WITH THE STEAMER BUTTON</td>\n",
       "      <td>It is lightweight and deep enough to steam ent...</td>\n",
       "      <td>[]</td>\n",
       "      <td>B079CLQJ5Z</td>\n",
       "      <td>B079CLQJ5Z</td>\n",
       "      <td>AE57MRF2R2ALCC6H5WQLFKT7KSSA</td>\n",
       "      <td>2019-10-05 16:57:37.457</td>\n",
       "      <td>2</td>\n",
       "      <td>True</td>\n",
       "      <td>lightweight deep steam entire head broccoli ca...</td>\n",
       "      <td>lightweight deep enough steam entire head broc...</td>\n",
       "      <td>0.018182</td>\n",
       "      <td>0.0</td>\n",
       "      <td>0.034483</td>\n",
       "    </tr>\n",
       "    <tr>\n",
       "      <th>9987</th>\n",
       "      <td>1</td>\n",
       "      <td>Not comfortable</td>\n",
       "      <td>Uncomfortable, not cool, and disappointed. Eas...</td>\n",
       "      <td>[]</td>\n",
       "      <td>B07MY34QH7</td>\n",
       "      <td>B0BLXVK6QX</td>\n",
       "      <td>AFPHKIJFGIU4G4POXRFCEF5RJJHA</td>\n",
       "      <td>2020-12-05 16:13:34.579</td>\n",
       "      <td>1</td>\n",
       "      <td>True</td>\n",
       "      <td>uncomfortable not cool disappoint easy return ...</td>\n",
       "      <td>uncomfortable cool disappointed easy return po...</td>\n",
       "      <td>0.000000</td>\n",
       "      <td>0.0</td>\n",
       "      <td>0.000000</td>\n",
       "    </tr>\n",
       "    <tr>\n",
       "      <th>9993</th>\n",
       "      <td>1</td>\n",
       "      <td>Broken when received</td>\n",
       "      <td>Bottle was broken but return policy was easy</td>\n",
       "      <td>[]</td>\n",
       "      <td>B00A7V9AVC</td>\n",
       "      <td>B07QWLX5FF</td>\n",
       "      <td>AFPHKIJFGIU4G4POXRFCEF5RJJHA</td>\n",
       "      <td>2020-12-05 14:57:32.936</td>\n",
       "      <td>0</td>\n",
       "      <td>True</td>\n",
       "      <td>bottle break return policy easy</td>\n",
       "      <td>bottle broken return policy easy</td>\n",
       "      <td>0.000000</td>\n",
       "      <td>0.0</td>\n",
       "      <td>0.000000</td>\n",
       "    </tr>\n",
       "  </tbody>\n",
       "</table>\n",
       "<p>970 rows × 15 columns</p>\n",
       "</div>"
      ],
      "text/plain": [
       "      rating                                              title  \\\n",
       "15         5                                   Perfect mattress   \n",
       "19         5  Totally. Obsessed. With dehydrating food. Than...   \n",
       "25         4                                 Nice sparkly touch   \n",
       "34         5                                   Smell My Pumpkin   \n",
       "35         5                                                yay   \n",
       "...      ...                                                ...   \n",
       "9972       5                             Sturdy and decorative.   \n",
       "9976       5                                      Does the job!   \n",
       "9979       1               IT INTERFERS WITH THE STEAMER BUTTON   \n",
       "9987       1                                    Not comfortable   \n",
       "9993       1                               Broken when received   \n",
       "\n",
       "                                                   text images        asin  \\\n",
       "15    OK, we bought this mattress for our guest room...     []  B0777K9RGX   \n",
       "19    This is really a great dehydrator - and so eas...     []  B000FFVJ3C   \n",
       "25    Nice quality. A little pricey for the amount b...     []  B01I3Q6BHS   \n",
       "34    Smells much better than the Smell My Nuts cand...     []  B004FO2A78   \n",
       "35    happily loved by our 1 year old.  she makes fu...     []  B00563XRYM   \n",
       "...                                                 ...    ...         ...   \n",
       "9972  I love these so much that I've purchased 3 set...     []  B08GTTM7G7   \n",
       "9976                       Just what I was looking for.     []  B0765BTD13   \n",
       "9979  It is lightweight and deep enough to steam ent...     []  B079CLQJ5Z   \n",
       "9987  Uncomfortable, not cool, and disappointed. Eas...     []  B07MY34QH7   \n",
       "9993       Bottle was broken but return policy was easy     []  B00A7V9AVC   \n",
       "\n",
       "     parent_asin                       user_id               timestamp  \\\n",
       "15    B0BPBLYF85  AGGZ357AO26RQZVRLGU4D4N52DZQ 2020-01-06 02:16:33.373   \n",
       "19    B0B69XTPVL  AGGZ357AO26RQZVRLGU4D4N52DZQ 2012-12-05 03:04:18.000   \n",
       "25    B01I3Q6BHS  AGKASBHYZPGTEPO6LWZPVJWB2BVA 2017-01-30 15:35:05.000   \n",
       "34    B01KU4IFXO  AGCI7FAH4GL5FI65HYLKWTMFZ2CQ 2014-11-18 06:15:48.000   \n",
       "35    B00563XRYM  AGCI7FAH4GL5FI65HYLKWTMFZ2CQ 2013-11-20 01:54:13.000   \n",
       "...          ...                           ...                     ...   \n",
       "9972  B08GTTM7G7  AE57MRF2R2ALCC6H5WQLFKT7KSSA 2021-12-02 23:08:30.693   \n",
       "9976  B0BWJ277SP  AE57MRF2R2ALCC6H5WQLFKT7KSSA 2021-03-05 15:23:36.385   \n",
       "9979  B079CLQJ5Z  AE57MRF2R2ALCC6H5WQLFKT7KSSA 2019-10-05 16:57:37.457   \n",
       "9987  B0BLXVK6QX  AFPHKIJFGIU4G4POXRFCEF5RJJHA 2020-12-05 16:13:34.579   \n",
       "9993  B07QWLX5FF  AFPHKIJFGIU4G4POXRFCEF5RJJHA 2020-12-05 14:57:32.936   \n",
       "\n",
       "      helpful_vote  verified_purchase  \\\n",
       "15               0               True   \n",
       "19               1               True   \n",
       "25               0               True   \n",
       "34               0               True   \n",
       "35               0               True   \n",
       "...            ...                ...   \n",
       "9972             0               True   \n",
       "9976             0               True   \n",
       "9979             2               True   \n",
       "9987             1               True   \n",
       "9993             0               True   \n",
       "\n",
       "                                             spacy_text  \\\n",
       "15    ok buy mattress guest room wish mattress serio...   \n",
       "19    great dehydrator easy use homemade trail mix u...   \n",
       "25           nice quality little pricey reusable desire   \n",
       "34    smell much well smell nuts candle buy father l...   \n",
       "35    happily love year old funny noise think funny ...   \n",
       "...                                                 ...   \n",
       "9972  love much purchase set other gift live humid f...   \n",
       "9976                                               look   \n",
       "9979  lightweight deep steam entire head broccoli ca...   \n",
       "9987  uncomfortable not cool disappoint easy return ...   \n",
       "9993                    bottle break return policy easy   \n",
       "\n",
       "                                              nltk_text  Bing_Liu_score  \\\n",
       "15    ok bought mattress guest room im wishing mattr...        0.000000   \n",
       "19    really great dehydrator easy use i make homema...        0.000000   \n",
       "25    nice quality little pricey amount also reusabl...        0.000000   \n",
       "34    smell much better smell nut candle i bought fa...        0.000000   \n",
       "35    happily loved year old make funny noise think ...        0.000000   \n",
       "...                                                 ...             ...   \n",
       "9972  i love much ive purchased set others gift i li...        0.000000   \n",
       "9976                                          i looking        0.000000   \n",
       "9979  lightweight deep enough steam entire head broc...        0.018182   \n",
       "9987  uncomfortable cool disappointed easy return po...        0.000000   \n",
       "9993                   bottle broken return policy easy        0.000000   \n",
       "\n",
       "      Bing_Liu_spaCy  Bing_Liu_nltk  \n",
       "15               0.0       0.000000  \n",
       "19               0.0      -0.011494  \n",
       "25               0.0       0.000000  \n",
       "34               0.0       0.000000  \n",
       "35               0.0       0.000000  \n",
       "...              ...            ...  \n",
       "9972             0.0       0.000000  \n",
       "9976             0.0       0.000000  \n",
       "9979             0.0       0.034483  \n",
       "9987             0.0       0.000000  \n",
       "9993             0.0       0.000000  \n",
       "\n",
       "[970 rows x 15 columns]"
      ]
     },
     "execution_count": 19,
     "metadata": {},
     "output_type": "execute_result"
    }
   ],
   "source": [
    "# Look for scores of zeroes in Bing_Liu_spaCy and Bing_Liu_nltk columns \n",
    "cleaned_text[cleaned_text['Bing_Liu_spaCy'] == 0]"
   ]
  },
  {
   "cell_type": "code",
   "execution_count": 20,
   "id": "2703fa52-f837-4b3a-9c6d-1a842472ba0e",
   "metadata": {},
   "outputs": [
    {
     "data": {
      "text/html": [
       "<div>\n",
       "<style scoped>\n",
       "    .dataframe tbody tr th:only-of-type {\n",
       "        vertical-align: middle;\n",
       "    }\n",
       "\n",
       "    .dataframe tbody tr th {\n",
       "        vertical-align: top;\n",
       "    }\n",
       "\n",
       "    .dataframe thead th {\n",
       "        text-align: right;\n",
       "    }\n",
       "</style>\n",
       "<table border=\"1\" class=\"dataframe\">\n",
       "  <thead>\n",
       "    <tr style=\"text-align: right;\">\n",
       "      <th></th>\n",
       "      <th>rating</th>\n",
       "      <th>title</th>\n",
       "      <th>text</th>\n",
       "      <th>images</th>\n",
       "      <th>asin</th>\n",
       "      <th>parent_asin</th>\n",
       "      <th>user_id</th>\n",
       "      <th>timestamp</th>\n",
       "      <th>helpful_vote</th>\n",
       "      <th>verified_purchase</th>\n",
       "      <th>spacy_text</th>\n",
       "      <th>nltk_text</th>\n",
       "      <th>Bing_Liu_score</th>\n",
       "      <th>Bing_Liu_spaCy</th>\n",
       "      <th>Bing_Liu_nltk</th>\n",
       "    </tr>\n",
       "  </thead>\n",
       "  <tbody>\n",
       "  </tbody>\n",
       "</table>\n",
       "</div>"
      ],
      "text/plain": [
       "Empty DataFrame\n",
       "Columns: [rating, title, text, images, asin, parent_asin, user_id, timestamp, helpful_vote, verified_purchase, spacy_text, nltk_text, Bing_Liu_score, Bing_Liu_spaCy, Bing_Liu_nltk]\n",
       "Index: []"
      ]
     },
     "execution_count": 20,
     "metadata": {},
     "output_type": "execute_result"
    }
   ],
   "source": [
    "cleaned_text[cleaned_text['Bing_Liu_spaCy'] == 3]"
   ]
  },
  {
   "cell_type": "code",
   "execution_count": 21,
   "id": "e3281f8c-b103-4cdc-81e3-8a49fd7eb37a",
   "metadata": {},
   "outputs": [
    {
     "name": "stdout",
     "output_type": "stream",
     "text": [
      "Title: Best purchase ever!\n",
      "\n",
      "Text: If you live at a higher elevation like me (5k Colorado) just know that after the buzzer beeps you might wanna leave the hard boiled eggs inside the steamed cooker for another minute or two if you want the egg cooked all the way through. I also add a bit more water than the fill line says, but again that’s bc of my elevation & it evaporates quickly.  It’s not any quicker than I used to make them, but it’s a lot less water. I’m disabled & have a TBI rn so the auto-cutoff was a no-brained for me. I bought the blue bc it was cheapest.  My service 🐶  🐶 love hard boiled eggs too so we are enjoying this new addition to our kitchen.  My only regret is that I did not buy it sooner & that Amazon never has the color I want for the cheapest price, but I can live with the bb blue.  We have used it 3x & so far it’s working okay. Oh- don’t place it under upper cabinets as it has a vent hole & it will vent & it will make the cabinets sweat.  Give it some room to breathe imo.  I keep a pair of tongs handy to unload the eggs & dunk them in my ice bath. Yes. You end up using water again, but I have house plants I’ll use it on anyways so it not just wasted water.  If it holds up & doesn’t break down it will truly be one of my top 10 if not top 5 amazon lifetime purchases.  It’s that good.  Nothing is worse than watching eggs boil. Lol.  I start this up at the same time I start my tea brewing and go about feeding the wildlife in my backyard.  It’s just a very peaceful start to my day. I know ppl have said stuff about the buzzer, but honestly I happen to be hearing impaired in both ears & my service dogs are trained to hear for me. I like that it’s loud enough that if my pups are outside & I am in my living room or just outside on my patio with them & my screen door is open then they & often I can still hear it.  I wish appliances had volume options on their alarms, but until then I am very happy with this one.  I am just extremely happy with this purchase. It’s been a long time since I could say that. Lol.\n",
      "\n",
      "Text: live high elevation like colorado know buzzer beep wanna leave hard boil egg inside steam cooker minute want egg cook way add bit water fill line bc elevation evaporate quickly not quick use lot water disabled tbi rn auto cutoff brain buy blue bc cheap service love hard boil egg enjoy new addition kitchen regret not buy soon amazon color want cheap price live bb blue use far work okay not place upper cabinet vent hole vent cabinet sweat room breathe imo pair tong handy unload egg dunk ice bath yes end use water house plant use anyways not waste water hold not break truly top not top amazon lifetime purchase good bad watch egg boil lol start same time start tea brewing feed wildlife backyard very peaceful start day know ppl stuff buzzer honestly happen hear impair ear service dog train hear like loud pup outside living room outside patio screen door open hear wish appliance volume option alarm very happy extremely happy purchase long time lol\n",
      "\n",
      "Text: live higher elevation like k colorado know buzzer beep might wanna leave hard boiled egg inside steamed cooker another minute two want egg cooked way i also add bit water fill line say thats bc elevation evaporates quickly quicker i used make lot le water im disabled tbi rn autocutoff nobrained i bought blue bc cheapest service love hard boiled egg enjoying new addition kitchen regret i buy sooner amazon never color i want cheapest price i live bb blue used x far working okay oh dont place upper cabinet vent hole vent make cabinet sweat give room breathe imo i keep pair tongs handy unload egg dunk ice bath yes end using water i house plant ill use anyways wasted water hold doesnt break truly one top top amazon lifetime purchase good nothing worse watching egg boil lol i start time i start tea brewing go feeding wildlife backyard peaceful start day i know ppl said stuff buzzer honestly i happen hearing impaired ear service dog trained hear i like loud enough pup outside i living room outside patio screen door open often i still hear i wish appliance volume option alarm i happy one i extremely happy purchase long time since i could say lol\n"
     ]
    }
   ],
   "source": [
    "i = 3\n",
    "print(f'Title: {cleaned_text.loc[i,\"title\"]}\\n')\n",
    "\n",
    "print(f'Text: {cleaned_text.loc[i,\"text\"]}\\n')\n",
    "\n",
    "print(f'Text: {cleaned_text.loc[i,\"spacy_text\"]}\\n')\n",
    "\n",
    "print(f'Text: {cleaned_text.loc[i,\"nltk_text\"]}')"
   ]
  },
  {
   "cell_type": "markdown",
   "id": "4291b896-3b1b-4c16-bd45-0d7890b08f86",
   "metadata": {},
   "source": [
    "## VADER Lexicon\n",
    "Rule-based lexicon. \n",
    "9,000 features with scales of [-4] Extremely Negative to [4] Extremely Positive with [0] for Neutral or Neither. "
   ]
  },
  {
   "cell_type": "code",
   "execution_count": 22,
   "id": "a3e75ea6-5546-46fa-b399-9bb22534db27",
   "metadata": {},
   "outputs": [],
   "source": [
    "model = SentimentIntensityAnalyzer()"
   ]
  },
  {
   "cell_type": "code",
   "execution_count": 23,
   "id": "c40cf930-a5ad-446a-a2d3-99f612ff4af6",
   "metadata": {},
   "outputs": [],
   "source": [
    "def vader_score(text):\n",
    "    score = model.polarity_scores(text)\n",
    "    compound_score = score['compound']\n",
    "    return compound_score"
   ]
  },
  {
   "cell_type": "code",
   "execution_count": 24,
   "id": "8627a1c6-8041-43a4-9498-df156b9c876c",
   "metadata": {
    "scrolled": true
   },
   "outputs": [],
   "source": [
    "cleaned_text['Vader_score'] = cleaned_text['text'].apply(vader_score)\n",
    "cleaned_text['Vader_spaCy'] = cleaned_text['spacy_text'].apply(vader_score)\n",
    "cleaned_text['Vader_nltk'] = cleaned_text['nltk_text'].apply(vader_score)"
   ]
  },
  {
   "cell_type": "markdown",
   "id": "faf559f7-1a5a-4040-a35c-998d4f083f2c",
   "metadata": {},
   "source": [
    "## Lexicon Sentiment Accuracy Scores "
   ]
  },
  {
   "cell_type": "code",
   "execution_count": 25,
   "id": "fc64278e-05c5-4666-93dd-788f93858bea",
   "metadata": {},
   "outputs": [
    {
     "name": "stdout",
     "output_type": "stream",
     "text": [
      "   rating  Bing_Liu_score  Bing_Liu_spaCy  Bing_Liu_nltk  Vader_score  \\\n",
      "0       1       -0.031370       -0.063742      -0.051328    -0.115005   \n",
      "1       2        0.003011        0.004356       0.009655     0.100559   \n",
      "2       3        0.031123        0.062282       0.062611     0.350320   \n",
      "3       4        0.066978        0.143764       0.132249     0.663724   \n",
      "4       5        0.129455        0.249447       0.227450     0.720333   \n",
      "\n",
      "   Vader_spaCy  Vader_nltk  \n",
      "0    -0.038082   -0.001541  \n",
      "1     0.156293    0.273848  \n",
      "2     0.365816    0.461605  \n",
      "3     0.645764    0.684293  \n",
      "4     0.710219    0.722140  \n"
     ]
    }
   ],
   "source": [
    "# Calculate mean sentiment score for each rating category\n",
    "mean_scores = cleaned_text.groupby('rating').agg({\n",
    "    'Bing_Liu_score':'mean',\n",
    "    'Bing_Liu_spaCy': 'mean',\n",
    "    'Bing_Liu_nltk': 'mean', \n",
    "    'Vader_score': 'mean',\n",
    "    'Vader_spaCy': 'mean',\n",
    "    'Vader_nltk': 'mean'\n",
    "}).reset_index()\n",
    "\n",
    "print(mean_scores)"
   ]
  },
  {
   "cell_type": "markdown",
   "id": "f69aaa26-8b45-432d-8a14-777349fb8110",
   "metadata": {},
   "source": [
    "## Supervised Learning Approach"
   ]
  },
  {
   "cell_type": "code",
   "execution_count": 28,
   "id": "a3a9e74c-cc14-4b5f-8a65-eb8f6c769f86",
   "metadata": {},
   "outputs": [
    {
     "data": {
      "text/plain": [
       "Index(['rating', 'title', 'text', 'images', 'asin', 'parent_asin', 'user_id',\n",
       "       'timestamp', 'helpful_vote', 'verified_purchase', 'spacy_text',\n",
       "       'nltk_text', 'Bing_Liu_score', 'Bing_Liu_spaCy', 'Bing_Liu_nltk',\n",
       "       'Vader_score', 'Vader_spaCy', 'Vader_nltk'],\n",
       "      dtype='object')"
      ]
     },
     "execution_count": 28,
     "metadata": {},
     "output_type": "execute_result"
    }
   ],
   "source": [
    "cleaned_text.columns"
   ]
  },
  {
   "cell_type": "code",
   "execution_count": 34,
   "id": "f6b6186d-b903-4629-918e-eb4202fa8b62",
   "metadata": {},
   "outputs": [],
   "source": [
    "# Assigning a new target class \n",
    "cleaned_text['sentiment'] = 0\n",
    "\n",
    "# Classify records with rating higher than a 3, positive (1)\n",
    "cleaned_text.loc[cleaned_text['rating'] > 3, 'sentiment'] = 1\n",
    "\n",
    "# Classify records with rating lower than a 3, negative (0)\n",
    "cleaned_text.loc[cleaned_text['rating'] < 3, 'sentiment'] = 0\n",
    "\n",
    "# Remove records with a rating of 3\n",
    "cleaned_text = cleaned_text.loc[cleaned_text['rating'] != 3].reset_index(drop=True)"
   ]
  },
  {
   "cell_type": "code",
   "execution_count": 40,
   "id": "808f0a04-9199-4976-84bd-241c4d687637",
   "metadata": {},
   "outputs": [
    {
     "name": "stdout",
     "output_type": "stream",
     "text": [
      "Record count: 9351\n"
     ]
    }
   ],
   "source": [
    "# Remove observations that are empty after the cleaning step\n",
    "cleaned_text = cleaned_text[cleaned_text['spacy_text'].str.len() != 0]\n",
    "cleaned_text = cleaned_text[cleaned_text['nltk_text'].str.len() != 0]\n",
    "print('Record count:', len(cleaned_text))"
   ]
  },
  {
   "cell_type": "markdown",
   "id": "9afe1764-c30e-4429-ad42-8450ff1c2c06",
   "metadata": {},
   "source": [
    "### Train-Test Split"
   ]
  },
  {
   "cell_type": "code",
   "execution_count": 69,
   "id": "d34fea75-ab28-41e4-958a-827e438b0231",
   "metadata": {},
   "outputs": [],
   "source": [
    "# Creating train-test split with spacy cleaned text\n",
    "X = cleaned_text[['spacy_text']]\n",
    "y = cleaned_text['sentiment']\n",
    "\n",
    "X_train, X_test, y_train, y_test = train_test_split(X, y, test_size = 0.20, random_state = 42, stratify = y)"
   ]
  },
  {
   "cell_type": "code",
   "execution_count": 68,
   "id": "3d92946e-dd0c-4963-a758-3aa28b798109",
   "metadata": {},
   "outputs": [
    {
     "name": "stdout",
     "output_type": "stream",
     "text": [
      "Size of Training Data  7480\n",
      "Size of Test Data  1871\n",
      "Distribution of classes in Training Data :\n",
      "Positive Sentiment  91.81818181818183\n",
      "Negative Sentiment  8.181818181818182\n",
      "Distribution of classes in Testing Data :\n",
      "Positive Sentiment  91.82255478353821\n",
      "Negative Sentiment  8.177445216461784\n"
     ]
    }
   ],
   "source": [
    "print ('Size of Training Data ', X_train.shape[0])\n",
    "print ('Size of Test Data ', X_test.shape[0])\n",
    "print ('Distribution of classes in Training Data :')\n",
    "print ('Positive Sentiment ', str(sum(y_train == 1)/ len(y_train) * 100.0))\n",
    "print ('Negative Sentiment ', str(sum(y_train == 0)/ len(y_train) * 100.0))\n",
    "print ('Distribution of classes in Testing Data :')\n",
    "print ('Positive Sentiment ', str(sum(y_test == 1)/ len(y_test) * 100.0))\n",
    "print ('Negative Sentiment ', str(sum(y_test == 0)/ len(y_test) * 100.0))\n"
   ]
  },
  {
   "cell_type": "markdown",
   "id": "3883c4e6-5628-4811-8222-b50b2e55aa51",
   "metadata": {},
   "source": [
    "### Text Vectorization\n",
    "Use TF-IDF vectorizer to transform text into vactor based on the frequency of word in the text. "
   ]
  },
  {
   "cell_type": "code",
   "execution_count": 70,
   "id": "0803a5db-c674-45f5-aca2-9b50b466abde",
   "metadata": {},
   "outputs": [],
   "source": [
    "tfidf = TfidfVectorizer()\n",
    "clf = MultinomialNB()\n",
    "\n",
    "pipe = Pipeline([(\"tfidf\", tfidf), (\"clf\", clf)])\n",
    "\n",
    "param_grid = {\n",
    "    'tfidf__ngram_range':[(1,1), (1,2), (1,3)],\n",
    "    'tfidf__min_df':[1, 2, 5, 10, 20],\n",
    "    'clf__fit_prior':[False, True]\n",
    "}"
   ]
  },
  {
   "cell_type": "code",
   "execution_count": 71,
   "id": "c993a49f-5766-4312-a72d-5dcaf117959d",
   "metadata": {
    "scrolled": true
   },
   "outputs": [
    {
     "name": "stdout",
     "output_type": "stream",
     "text": [
      "Fitting 5 folds for each of 10 candidates, totalling 50 fits\n"
     ]
    },
    {
     "data": {
      "text/html": [
       "<style>#sk-container-id-2 {color: black;background-color: white;}#sk-container-id-2 pre{padding: 0;}#sk-container-id-2 div.sk-toggleable {background-color: white;}#sk-container-id-2 label.sk-toggleable__label {cursor: pointer;display: block;width: 100%;margin-bottom: 0;padding: 0.3em;box-sizing: border-box;text-align: center;}#sk-container-id-2 label.sk-toggleable__label-arrow:before {content: \"▸\";float: left;margin-right: 0.25em;color: #696969;}#sk-container-id-2 label.sk-toggleable__label-arrow:hover:before {color: black;}#sk-container-id-2 div.sk-estimator:hover label.sk-toggleable__label-arrow:before {color: black;}#sk-container-id-2 div.sk-toggleable__content {max-height: 0;max-width: 0;overflow: hidden;text-align: left;background-color: #f0f8ff;}#sk-container-id-2 div.sk-toggleable__content pre {margin: 0.2em;color: black;border-radius: 0.25em;background-color: #f0f8ff;}#sk-container-id-2 input.sk-toggleable__control:checked~div.sk-toggleable__content {max-height: 200px;max-width: 100%;overflow: auto;}#sk-container-id-2 input.sk-toggleable__control:checked~label.sk-toggleable__label-arrow:before {content: \"▾\";}#sk-container-id-2 div.sk-estimator input.sk-toggleable__control:checked~label.sk-toggleable__label {background-color: #d4ebff;}#sk-container-id-2 div.sk-label input.sk-toggleable__control:checked~label.sk-toggleable__label {background-color: #d4ebff;}#sk-container-id-2 input.sk-hidden--visually {border: 0;clip: rect(1px 1px 1px 1px);clip: rect(1px, 1px, 1px, 1px);height: 1px;margin: -1px;overflow: hidden;padding: 0;position: absolute;width: 1px;}#sk-container-id-2 div.sk-estimator {font-family: monospace;background-color: #f0f8ff;border: 1px dotted black;border-radius: 0.25em;box-sizing: border-box;margin-bottom: 0.5em;}#sk-container-id-2 div.sk-estimator:hover {background-color: #d4ebff;}#sk-container-id-2 div.sk-parallel-item::after {content: \"\";width: 100%;border-bottom: 1px solid gray;flex-grow: 1;}#sk-container-id-2 div.sk-label:hover label.sk-toggleable__label {background-color: #d4ebff;}#sk-container-id-2 div.sk-serial::before {content: \"\";position: absolute;border-left: 1px solid gray;box-sizing: border-box;top: 0;bottom: 0;left: 50%;z-index: 0;}#sk-container-id-2 div.sk-serial {display: flex;flex-direction: column;align-items: center;background-color: white;padding-right: 0.2em;padding-left: 0.2em;position: relative;}#sk-container-id-2 div.sk-item {position: relative;z-index: 1;}#sk-container-id-2 div.sk-parallel {display: flex;align-items: stretch;justify-content: center;background-color: white;position: relative;}#sk-container-id-2 div.sk-item::before, #sk-container-id-2 div.sk-parallel-item::before {content: \"\";position: absolute;border-left: 1px solid gray;box-sizing: border-box;top: 0;bottom: 0;left: 50%;z-index: -1;}#sk-container-id-2 div.sk-parallel-item {display: flex;flex-direction: column;z-index: 1;position: relative;background-color: white;}#sk-container-id-2 div.sk-parallel-item:first-child::after {align-self: flex-end;width: 50%;}#sk-container-id-2 div.sk-parallel-item:last-child::after {align-self: flex-start;width: 50%;}#sk-container-id-2 div.sk-parallel-item:only-child::after {width: 0;}#sk-container-id-2 div.sk-dashed-wrapped {border: 1px dashed gray;margin: 0 0.4em 0.5em 0.4em;box-sizing: border-box;padding-bottom: 0.4em;background-color: white;}#sk-container-id-2 div.sk-label label {font-family: monospace;font-weight: bold;display: inline-block;line-height: 1.2em;}#sk-container-id-2 div.sk-label-container {text-align: center;}#sk-container-id-2 div.sk-container {/* jupyter's `normalize.less` sets `[hidden] { display: none; }` but bootstrap.min.css set `[hidden] { display: none !important; }` so we also need the `!important` here to be able to override the default hidden behavior on the sphinx rendered scikit-learn.org. See: https://github.com/scikit-learn/scikit-learn/issues/21755 */display: inline-block !important;position: relative;}#sk-container-id-2 div.sk-text-repr-fallback {display: none;}</style><div id=\"sk-container-id-2\" class=\"sk-top-container\"><div class=\"sk-text-repr-fallback\"><pre>RandomizedSearchCV(estimator=Pipeline(steps=[(&#x27;tfidf&#x27;, TfidfVectorizer()),\n",
       "                                             (&#x27;clf&#x27;, MultinomialNB())]),\n",
       "                   n_jobs=-1,\n",
       "                   param_distributions={&#x27;clf__fit_prior&#x27;: [False, True],\n",
       "                                        &#x27;tfidf__min_df&#x27;: [1, 2, 5, 10, 20],\n",
       "                                        &#x27;tfidf__ngram_range&#x27;: [(1, 1), (1, 2),\n",
       "                                                               (1, 3)]},\n",
       "                   verbose=2)</pre><b>In a Jupyter environment, please rerun this cell to show the HTML representation or trust the notebook. <br />On GitHub, the HTML representation is unable to render, please try loading this page with nbviewer.org.</b></div><div class=\"sk-container\" hidden><div class=\"sk-item sk-dashed-wrapped\"><div class=\"sk-label-container\"><div class=\"sk-label sk-toggleable\"><input class=\"sk-toggleable__control sk-hidden--visually\" id=\"sk-estimator-id-5\" type=\"checkbox\" ><label for=\"sk-estimator-id-5\" class=\"sk-toggleable__label sk-toggleable__label-arrow\">RandomizedSearchCV</label><div class=\"sk-toggleable__content\"><pre>RandomizedSearchCV(estimator=Pipeline(steps=[(&#x27;tfidf&#x27;, TfidfVectorizer()),\n",
       "                                             (&#x27;clf&#x27;, MultinomialNB())]),\n",
       "                   n_jobs=-1,\n",
       "                   param_distributions={&#x27;clf__fit_prior&#x27;: [False, True],\n",
       "                                        &#x27;tfidf__min_df&#x27;: [1, 2, 5, 10, 20],\n",
       "                                        &#x27;tfidf__ngram_range&#x27;: [(1, 1), (1, 2),\n",
       "                                                               (1, 3)]},\n",
       "                   verbose=2)</pre></div></div></div><div class=\"sk-parallel\"><div class=\"sk-parallel-item\"><div class=\"sk-item\"><div class=\"sk-label-container\"><div class=\"sk-label sk-toggleable\"><input class=\"sk-toggleable__control sk-hidden--visually\" id=\"sk-estimator-id-6\" type=\"checkbox\" ><label for=\"sk-estimator-id-6\" class=\"sk-toggleable__label sk-toggleable__label-arrow\">estimator: Pipeline</label><div class=\"sk-toggleable__content\"><pre>Pipeline(steps=[(&#x27;tfidf&#x27;, TfidfVectorizer()), (&#x27;clf&#x27;, MultinomialNB())])</pre></div></div></div><div class=\"sk-serial\"><div class=\"sk-item\"><div class=\"sk-serial\"><div class=\"sk-item\"><div class=\"sk-estimator sk-toggleable\"><input class=\"sk-toggleable__control sk-hidden--visually\" id=\"sk-estimator-id-7\" type=\"checkbox\" ><label for=\"sk-estimator-id-7\" class=\"sk-toggleable__label sk-toggleable__label-arrow\">TfidfVectorizer</label><div class=\"sk-toggleable__content\"><pre>TfidfVectorizer()</pre></div></div></div><div class=\"sk-item\"><div class=\"sk-estimator sk-toggleable\"><input class=\"sk-toggleable__control sk-hidden--visually\" id=\"sk-estimator-id-8\" type=\"checkbox\" ><label for=\"sk-estimator-id-8\" class=\"sk-toggleable__label sk-toggleable__label-arrow\">MultinomialNB</label><div class=\"sk-toggleable__content\"><pre>MultinomialNB()</pre></div></div></div></div></div></div></div></div></div></div></div></div>"
      ],
      "text/plain": [
       "RandomizedSearchCV(estimator=Pipeline(steps=[('tfidf', TfidfVectorizer()),\n",
       "                                             ('clf', MultinomialNB())]),\n",
       "                   n_jobs=-1,\n",
       "                   param_distributions={'clf__fit_prior': [False, True],\n",
       "                                        'tfidf__min_df': [1, 2, 5, 10, 20],\n",
       "                                        'tfidf__ngram_range': [(1, 1), (1, 2),\n",
       "                                                               (1, 3)]},\n",
       "                   verbose=2)"
      ]
     },
     "execution_count": 71,
     "metadata": {},
     "output_type": "execute_result"
    }
   ],
   "source": [
    "rs = RandomizedSearchCV(estimator = pipe, param_distributions = param_grid, verbose = 2, n_jobs = -1)\n",
    "rs.fit(X_train['spacy_text'], y_train)"
   ]
  },
  {
   "cell_type": "code",
   "execution_count": 75,
   "id": "3ec48043-0d29-460b-8f3a-f08b4b35cfa3",
   "metadata": {
    "scrolled": true
   },
   "outputs": [
    {
     "name": "stdout",
     "output_type": "stream",
     "text": [
      "Accuracy: 0.9363976483164084\n",
      "ROC-AUC Score: 0.7182808707495416\n",
      "[[  70   83]\n",
      " [  36 1682]]\n"
     ]
    }
   ],
   "source": [
    "y_pred = rs.predict(X_test['spacy_text'])\n",
    "\n",
    "print(f'Accuracy: {accuracy_score(y_test, y_pred)}')\n",
    "print(f'ROC-AUC Score: {roc_auc_score(y_test, y_pred)}')\n",
    "print(confusion_matrix(y_test, y_pred))"
   ]
  },
  {
   "cell_type": "code",
   "execution_count": 76,
   "id": "e19778ff-0d0c-4f66-b573-a251b0eb71ff",
   "metadata": {},
   "outputs": [
    {
     "name": "stdout",
     "output_type": "stream",
     "text": [
      "{'tfidf__ngram_range': (1, 3), 'tfidf__min_df': 5, 'clf__fit_prior': False}\n",
      "0.9367647058823529\n"
     ]
    }
   ],
   "source": [
    "# Finding the best parameters \n",
    "print(rs.best_params_)\n",
    "print(rs.best_score_)"
   ]
  },
  {
   "cell_type": "code",
   "execution_count": 86,
   "id": "0aa6abe1-983a-4f26-96b8-0d960184d850",
   "metadata": {},
   "outputs": [
    {
     "data": {
      "image/png": "[encoded data removed]",
      "text/plain": [
       "<Figure size 640x480 with 1 Axes>"
      ]
     },
     "metadata": {},
     "output_type": "display_data"
    },
    {
     "name": "stdout",
     "output_type": "stream",
     "text": [
      "0.9118826420750683\n"
     ]
    }
   ],
   "source": [
    "sentiment_prob = rs.predict_proba(X_test['spacy_text'])\n",
    "positive_class_prob = sentiment_prob[:, 1]\n",
    "\n",
    "fpr, tpr, thresholds = roc_curve(y_test, positive_class_prob, pos_label = 1)\n",
    "plt.plot([0, 1], [0, 1],\n",
    "'k--')\n",
    "plt.plot(fpr, tpr)\n",
    "plt.xlabel('False Positive Rate')\n",
    "plt.ylabel('True Positive Rate')\n",
    "plt.title('Randomized Search Cross Validation ROC Curve')\n",
    "plt.show()\n",
    "\n",
    "print(roc_auc_score(y_test, positive_class_prob))"
   ]
  },
  {
   "cell_type": "code",
   "execution_count": 90,
   "id": "21bd5f07-fd4c-49dc-a404-e30f2faa3254",
   "metadata": {},
   "outputs": [
    {
     "data": {
      "text/html": [
       "<style>#sk-container-id-3 {color: black;background-color: white;}#sk-container-id-3 pre{padding: 0;}#sk-container-id-3 div.sk-toggleable {background-color: white;}#sk-container-id-3 label.sk-toggleable__label {cursor: pointer;display: block;width: 100%;margin-bottom: 0;padding: 0.3em;box-sizing: border-box;text-align: center;}#sk-container-id-3 label.sk-toggleable__label-arrow:before {content: \"▸\";float: left;margin-right: 0.25em;color: #696969;}#sk-container-id-3 label.sk-toggleable__label-arrow:hover:before {color: black;}#sk-container-id-3 div.sk-estimator:hover label.sk-toggleable__label-arrow:before {color: black;}#sk-container-id-3 div.sk-toggleable__content {max-height: 0;max-width: 0;overflow: hidden;text-align: left;background-color: #f0f8ff;}#sk-container-id-3 div.sk-toggleable__content pre {margin: 0.2em;color: black;border-radius: 0.25em;background-color: #f0f8ff;}#sk-container-id-3 input.sk-toggleable__control:checked~div.sk-toggleable__content {max-height: 200px;max-width: 100%;overflow: auto;}#sk-container-id-3 input.sk-toggleable__control:checked~label.sk-toggleable__label-arrow:before {content: \"▾\";}#sk-container-id-3 div.sk-estimator input.sk-toggleable__control:checked~label.sk-toggleable__label {background-color: #d4ebff;}#sk-container-id-3 div.sk-label input.sk-toggleable__control:checked~label.sk-toggleable__label {background-color: #d4ebff;}#sk-container-id-3 input.sk-hidden--visually {border: 0;clip: rect(1px 1px 1px 1px);clip: rect(1px, 1px, 1px, 1px);height: 1px;margin: -1px;overflow: hidden;padding: 0;position: absolute;width: 1px;}#sk-container-id-3 div.sk-estimator {font-family: monospace;background-color: #f0f8ff;border: 1px dotted black;border-radius: 0.25em;box-sizing: border-box;margin-bottom: 0.5em;}#sk-container-id-3 div.sk-estimator:hover {background-color: #d4ebff;}#sk-container-id-3 div.sk-parallel-item::after {content: \"\";width: 100%;border-bottom: 1px solid gray;flex-grow: 1;}#sk-container-id-3 div.sk-label:hover label.sk-toggleable__label {background-color: #d4ebff;}#sk-container-id-3 div.sk-serial::before {content: \"\";position: absolute;border-left: 1px solid gray;box-sizing: border-box;top: 0;bottom: 0;left: 50%;z-index: 0;}#sk-container-id-3 div.sk-serial {display: flex;flex-direction: column;align-items: center;background-color: white;padding-right: 0.2em;padding-left: 0.2em;position: relative;}#sk-container-id-3 div.sk-item {position: relative;z-index: 1;}#sk-container-id-3 div.sk-parallel {display: flex;align-items: stretch;justify-content: center;background-color: white;position: relative;}#sk-container-id-3 div.sk-item::before, #sk-container-id-3 div.sk-parallel-item::before {content: \"\";position: absolute;border-left: 1px solid gray;box-sizing: border-box;top: 0;bottom: 0;left: 50%;z-index: -1;}#sk-container-id-3 div.sk-parallel-item {display: flex;flex-direction: column;z-index: 1;position: relative;background-color: white;}#sk-container-id-3 div.sk-parallel-item:first-child::after {align-self: flex-end;width: 50%;}#sk-container-id-3 div.sk-parallel-item:last-child::after {align-self: flex-start;width: 50%;}#sk-container-id-3 div.sk-parallel-item:only-child::after {width: 0;}#sk-container-id-3 div.sk-dashed-wrapped {border: 1px dashed gray;margin: 0 0.4em 0.5em 0.4em;box-sizing: border-box;padding-bottom: 0.4em;background-color: white;}#sk-container-id-3 div.sk-label label {font-family: monospace;font-weight: bold;display: inline-block;line-height: 1.2em;}#sk-container-id-3 div.sk-label-container {text-align: center;}#sk-container-id-3 div.sk-container {/* jupyter's `normalize.less` sets `[hidden] { display: none; }` but bootstrap.min.css set `[hidden] { display: none !important; }` so we also need the `!important` here to be able to override the default hidden behavior on the sphinx rendered scikit-learn.org. See: https://github.com/scikit-learn/scikit-learn/issues/21755 */display: inline-block !important;position: relative;}#sk-container-id-3 div.sk-text-repr-fallback {display: none;}</style><div id=\"sk-container-id-3\" class=\"sk-top-container\"><div class=\"sk-text-repr-fallback\"><pre>LinearSVC(random_state=42, tol=1e-05)</pre><b>In a Jupyter environment, please rerun this cell to show the HTML representation or trust the notebook. <br />On GitHub, the HTML representation is unable to render, please try loading this page with nbviewer.org.</b></div><div class=\"sk-container\" hidden><div class=\"sk-item\"><div class=\"sk-estimator sk-toggleable\"><input class=\"sk-toggleable__control sk-hidden--visually\" id=\"sk-estimator-id-9\" type=\"checkbox\" checked><label for=\"sk-estimator-id-9\" class=\"sk-toggleable__label sk-toggleable__label-arrow\">LinearSVC</label><div class=\"sk-toggleable__content\"><pre>LinearSVC(random_state=42, tol=1e-05)</pre></div></div></div></div></div>"
      ],
      "text/plain": [
       "LinearSVC(random_state=42, tol=1e-05)"
      ]
     },
     "execution_count": 90,
     "metadata": {},
     "output_type": "execute_result"
    }
   ],
   "source": [
    "tfidf = TfidfVectorizer(min_df = 10, ngram_range = (1,2))\n",
    "\n",
    "X_train_tf = tfidf.fit_transform(X_train['spacy_text'])\n",
    "X_test_tf = tfidf.transform(X_test['spacy_text'])\n",
    "\n",
    "linear = LinearSVC(random_state = 42, tol = 1e-5)\n",
    "linear.fit(X_train_tf, y_train)"
   ]
  },
  {
   "cell_type": "code",
   "execution_count": 92,
   "id": "9fd6dfe9-da5c-4585-84f6-92104737f72f",
   "metadata": {},
   "outputs": [
    {
     "name": "stdout",
     "output_type": "stream",
     "text": [
      "Accuracy Score -  0.9465526456440406\n",
      "ROC-AUC Score -  0.7267874941983001\n"
     ]
    }
   ],
   "source": [
    "y_pred = linear.predict(X_test_tf)\n",
    "print ('Accuracy Score:', accuracy_score(Y_test, y_pred))\n",
    "print ('ROC-AUC Score:', roc_auc_score(Y_test, y_pred))"
   ]
  },
  {
   "cell_type": "code",
   "execution_count": 95,
   "id": "c3c37698-e099-430a-90f5-120f0d959b78",
   "metadata": {},
   "outputs": [
    {
     "name": "stdout",
     "output_type": "stream",
     "text": [
      "Some sample reviews with their sentiment - \n"
     ]
    },
    {
     "data": {
      "text/html": [
       "<div>\n",
       "<style scoped>\n",
       "    .dataframe tbody tr th:only-of-type {\n",
       "        vertical-align: middle;\n",
       "    }\n",
       "\n",
       "    .dataframe tbody tr th {\n",
       "        vertical-align: top;\n",
       "    }\n",
       "\n",
       "    .dataframe thead th {\n",
       "        text-align: right;\n",
       "    }\n",
       "</style>\n",
       "<table border=\"1\" class=\"dataframe\">\n",
       "  <thead>\n",
       "    <tr style=\"text-align: right;\">\n",
       "      <th></th>\n",
       "      <th>text</th>\n",
       "      <th>rating</th>\n",
       "      <th>sentiment_prediction</th>\n",
       "    </tr>\n",
       "  </thead>\n",
       "  <tbody>\n",
       "    <tr>\n",
       "      <th>221</th>\n",
       "      <td>very nice for my bookcase, easy to read and lo...</td>\n",
       "      <td>5</td>\n",
       "      <td>1</td>\n",
       "    </tr>\n",
       "    <tr>\n",
       "      <th>4229</th>\n",
       "      <td>This cake stand Is made of a beautiful wood. I...</td>\n",
       "      <td>5</td>\n",
       "      <td>1</td>\n",
       "    </tr>\n",
       "    <tr>\n",
       "      <th>5739</th>\n",
       "      <td>My daughter has used a similar Twin XL mattres...</td>\n",
       "      <td>5</td>\n",
       "      <td>1</td>\n",
       "    </tr>\n",
       "    <tr>\n",
       "      <th>4419</th>\n",
       "      <td>As another reviewer mentioned, this item is of...</td>\n",
       "      <td>1</td>\n",
       "      <td>0</td>\n",
       "    </tr>\n",
       "    <tr>\n",
       "      <th>738</th>\n",
       "      <td>Wow, what a clever idea! I always am making ka...</td>\n",
       "      <td>5</td>\n",
       "      <td>1</td>\n",
       "    </tr>\n",
       "  </tbody>\n",
       "</table>\n",
       "</div>"
      ],
      "text/plain": [
       "                                                   text  rating  \\\n",
       "221   very nice for my bookcase, easy to read and lo...       5   \n",
       "4229  This cake stand Is made of a beautiful wood. I...       5   \n",
       "5739  My daughter has used a similar Twin XL mattres...       5   \n",
       "4419  As another reviewer mentioned, this item is of...       1   \n",
       "738   Wow, what a clever idea! I always am making ka...       5   \n",
       "\n",
       "      sentiment_prediction  \n",
       "221                      1  \n",
       "4229                     1  \n",
       "5739                     1  \n",
       "4419                     0  \n",
       "738                      1  "
      ]
     },
     "execution_count": 95,
     "metadata": {},
     "output_type": "execute_result"
    }
   ],
   "source": [
    "sample_reviews = cleaned_text.sample(5)\n",
    "sample_reviews_tf = tfidf.transform(sample_reviews['spacy_text'])\n",
    "sentiment_predictions = linear.predict(sample_reviews_tf)\n",
    "sentiment_predictions = pd.DataFrame(data = sentiment_predictions,\n",
    "                                     index=sample_reviews.index,\n",
    "                                     columns=['sentiment_prediction'])\n",
    "sample_reviews = pd.concat([sample_reviews, sentiment_predictions], axis=1)\n",
    "print ('Some sample reviews with their sentiment - ')\n",
    "sample_reviews[['text', 'rating', 'sentiment_prediction']]\n"
   ]
  }
 ],
 "metadata": {
  "kernelspec": {
   "display_name": "Python 3 (ipykernel)",
   "language": "python",
   "name": "python3"
  },
  "language_info": {
   "codemirror_mode": {
    "name": "ipython",
    "version": 3
   },
   "file_extension": ".py",
   "mimetype": "text/x-python",
   "name": "python",
   "nbconvert_exporter": "python",
   "pygments_lexer": "ipython3",
   "version": "3.11.8"
  }
 },
 "nbformat": 4,
 "nbformat_minor": 5
}
