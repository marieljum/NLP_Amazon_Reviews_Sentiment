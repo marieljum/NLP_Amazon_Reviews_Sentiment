{
 "cells": [
  {
   "cell_type": "markdown",
   "id": "bf79bba4-138d-4937-810a-99ac2354ed4c",
   "metadata": {},
   "source": [
    "# Sentiment Analysis Using Various Approaches"
   ]
  },
  {
   "cell_type": "code",
   "execution_count": 1,
   "id": "c66c1d2d-5190-4a5b-a4dd-08e620fd81f7",
   "metadata": {
    "scrolled": true
   },
   "outputs": [],
   "source": [
    "import numpy as np \n",
    "import pandas as pd\n",
    "import json\n",
    "import time\n",
    "import re\n",
    "import seaborn as sns\n",
    "\n",
    "# Text cleaning\n",
    "from nltk import sent_tokenize, word_tokenize, regexp_tokenize\n",
    "from nltk.stem import WordNetLemmatizer\n",
    "import spacy \n",
    "nlp = spacy.load('en_core_web_sm')\n",
    "\n",
    "# NLTK Bing Liu Lexicon \n",
    "import nltk\n",
    "# nltk.download('opinion_lexicon')\n",
    "from nltk.corpus import opinion_lexicon\n",
    "from nltk.tokenize import word_tokenize \n",
    "\n",
    "# VADER \n",
    "import nltk\n",
    "# nltk.download('vader_lexicon')\n",
    "from nltk.sentiment.vader import SentimentIntensityAnalyzer\n",
    "from sklearn.metrics import accuracy_score, confusion_matrix\n",
    "\n",
    "# Supervised learning \n",
    "from sklearn.model_selection import train_test_split, RandomizedSearchCV\n",
    "from sklearn.linear_model import LogisticRegression\n",
    "from sklearn.metrics import accuracy_score, classification_report, roc_auc_score, roc_curve\n",
    "from sklearn.calibration import CalibrationDisplay\n",
    "import matplotlib.pyplot as plt\n",
    "from sklearn.naive_bayes import MultinomialNB\n",
    "from sklearn.pipeline import Pipeline \n",
    "from sklearn.svm import LinearSVC\n",
    "\n",
    "from scipy.sparse import csr_matrix\n",
    "from scipy.sparse import hstack, vstack\n",
    "\n",
    "# Text Vectorization\n",
    "from sklearn.feature_extraction.text import TfidfVectorizer\n",
    "\n",
    "import matplotlib.pyplot as plt\n",
    "\n",
    "# Topic Modeling \n",
    "from sklearn.decomposition import TruncatedSVD, NMF, LatentDirichletAllocation"
   ]
  },
  {
   "cell_type": "markdown",
   "id": "ad46dc4d-99a0-42a2-86e1-2be2a26e242b",
   "metadata": {},
   "source": [
    "## Loading a subset of reviews and meta data"
   ]
  },
  {
   "cell_type": "code",
   "execution_count": 62,
   "id": "30beeb6b-563d-4b90-aeed-7ad12b45e2f2",
   "metadata": {},
   "outputs": [],
   "source": [
    "n = 1 \n",
    "total_rows = 0\n",
    "\n",
    "def process_chunks(file, chunksize = 1000):\n",
    "    \"\"\"\n",
    "    Processes chunks of records from a JSON Lines file and appends them to a DataFrame.\n",
    "    \n",
    "    This function reads a JSON Lines file in chunks of a specified size, appends each chunk to a list of DataFrames, \n",
    "    and prints the number of rows added after processing each chunk. It stops after processing a maximum of 10 chunks.\n",
    "    \n",
    "    Parameters:\n",
    "    file (str): The path to the JSON Lines file to be processed.\n",
    "    chunksize (int): The number of records per chunk. Default is 1000.\n",
    "    \n",
    "    Returns:\n",
    "    pd.DataFrame: A DataFrame containing all the processed chunks concatenated together.\n",
    "    \"\"\"\n",
    "\n",
    "    # Setting as global variables\n",
    "    global n, total_rows  \n",
    "    \n",
    "    chunks = pd.read_json(file, lines=True, chunksize = chunksize)\n",
    "    dfs = []  \n",
    "    n_chunks = 0\n",
    "\n",
    "    for chunk in chunks:\n",
    "        dfs.append(chunk)\n",
    "        n_chunks += 1  \n",
    "        print(len(chunk), \" rows added\")\n",
    "        n += 1 \n",
    "        total_rows += len(chunk)\n",
    "        if n_chunks >= 10:  \n",
    "            break  \n",
    "            \n",
    "    print(\"Done\")\n",
    "    print(f\"Total rows: {total_rows}\")\n",
    "    return pd.concat(dfs, ignore_index=True)"
   ]
  },
  {
   "cell_type": "code",
   "execution_count": 3,
   "id": "68a6d07d-3148-430b-be2f-6889f87b8375",
   "metadata": {
    "scrolled": true
   },
   "outputs": [
    {
     "name": "stdout",
     "output_type": "stream",
     "text": [
      "1000  rows added\n",
      "1000  rows added\n",
      "1000  rows added\n",
      "1000  rows added\n",
      "1000  rows added\n",
      "1000  rows added\n",
      "1000  rows added\n",
      "1000  rows added\n",
      "1000  rows added\n",
      "1000  rows added\n",
      "Done\n",
      "Total rows: 10000\n",
      "Created a subset of the reviews dataset\n",
      "Execution time: 0.5 seconds\n",
      "--------------\n",
      "1000  rows added\n",
      "1000  rows added\n",
      "1000  rows added\n",
      "1000  rows added\n",
      "1000  rows added\n",
      "1000  rows added\n",
      "1000  rows added\n",
      "1000  rows added\n",
      "1000  rows added\n",
      "1000  rows added\n",
      "Done\n",
      "Total rows: 20000\n",
      "Created a subset of the meta dataset\n",
      "Execution time: 1.484375 seconds\n"
     ]
    }
   ],
   "source": [
    "reviews = \"../data/Home_and_Kitchen.jsonl\"\n",
    "meta = \"../data/meta_Home_and_Kitchen.jsonl\"\n",
    "\n",
    "start = time.process_time()\n",
    "\n",
    "reviews_subset = process_chunks(reviews)\n",
    "\n",
    "end = time.process_time()\n",
    "elapsed_time = end - start\n",
    "print('Created a subset of the reviews dataset')\n",
    "print('Execution time:', elapsed_time, 'seconds')\n",
    "\n",
    "print('--------------')\n",
    "start = time.process_time()\n",
    "\n",
    "meta_subset = process_chunks(meta)\n",
    "\n",
    "end = time.process_time()\n",
    "elapsed_time = end - start\n",
    "print('Created a subset of the meta dataset')\n",
    "print('Execution time:', elapsed_time, 'seconds')"
   ]
  },
  {
   "cell_type": "markdown",
   "id": "6e5826ae-2684-4d96-bbbf-53d6349f30c9",
   "metadata": {},
   "source": [
    "## EDA"
   ]
  },
  {
   "cell_type": "code",
   "execution_count": 4,
   "id": "6879a19c-4de8-40b8-9be2-8a62310586cf",
   "metadata": {
    "scrolled": true
   },
   "outputs": [
    {
     "name": "stdout",
     "output_type": "stream",
     "text": [
      "<class 'pandas.core.frame.DataFrame'>\n",
      "RangeIndex: 10000 entries, 0 to 9999\n",
      "Data columns (total 10 columns):\n",
      " #   Column             Non-Null Count  Dtype         \n",
      "---  ------             --------------  -----         \n",
      " 0   rating             10000 non-null  int64         \n",
      " 1   title              10000 non-null  object        \n",
      " 2   text               10000 non-null  object        \n",
      " 3   images             10000 non-null  object        \n",
      " 4   asin               10000 non-null  object        \n",
      " 5   parent_asin        10000 non-null  object        \n",
      " 6   user_id            10000 non-null  object        \n",
      " 7   timestamp          10000 non-null  datetime64[ns]\n",
      " 8   helpful_vote       10000 non-null  int64         \n",
      " 9   verified_purchase  10000 non-null  bool          \n",
      "dtypes: bool(1), datetime64[ns](1), int64(2), object(6)\n",
      "memory usage: 713.0+ KB\n"
     ]
    }
   ],
   "source": [
    "reviews_subset.info()"
   ]
  },
  {
   "cell_type": "code",
   "execution_count": 5,
   "id": "f680ea2f-d87d-477a-8b9e-c5122cfe2204",
   "metadata": {},
   "outputs": [
    {
     "data": {
      "text/plain": [
       "rating\n",
       "5    6821\n",
       "4    1772\n",
       "3     641\n",
       "1     512\n",
       "2     254\n",
       "Name: count, dtype: int64"
      ]
     },
     "execution_count": 5,
     "metadata": {},
     "output_type": "execute_result"
    }
   ],
   "source": [
    "reviews_subset['rating'].value_counts()"
   ]
  },
  {
   "cell_type": "code",
   "execution_count": 6,
   "id": "87dcbee1-4e6a-435c-9b40-01e7332c4f30",
   "metadata": {},
   "outputs": [
    {
     "data": {
      "image/png": "[encoded data removed]",
      "text/plain": [
       "<Figure size 400x400 with 1 Axes>"
      ]
     },
     "metadata": {},
     "output_type": "display_data"
    }
   ],
   "source": [
    "## Displays graphs directly within the notebook\n",
    "%matplotlib inline \n",
    "\n",
    "ratings_count = reviews_subset.groupby('rating').size()\n",
    "\n",
    "ax = ratings_count.plot(kind = 'bar', figsize = (4,4), color = 'orange')\n",
    "\n",
    "ax.tick_params(axis='x', rotation=0)\n",
    "\n",
    "# Add labels above the bars\n",
    "for i in ax.containers:\n",
    "    ax.bar_label(i)\n",
    "    \n",
    "ax.set_title('Rating Count');"
   ]
  },
  {
   "cell_type": "markdown",
   "id": "c7969902-aeb1-4b1b-a43c-8a39e1d46284",
   "metadata": {},
   "source": [
    "### How many reviews are there per year?"
   ]
  },
  {
   "cell_type": "code",
   "execution_count": 7,
   "id": "bfbb1d31-9ec0-4cca-acca-c2f6b47fa55a",
   "metadata": {},
   "outputs": [
    {
     "data": {
      "image/png": "[encoded data removed]",
      "text/plain": [
       "<Figure size 400x400 with 1 Axes>"
      ]
     },
     "metadata": {},
     "output_type": "display_data"
    }
   ],
   "source": [
    "cleaned_text = reviews_subset.copy()\n",
    "\n",
    "# Create a year column from the timestamp column \n",
    "cleaned_text['year'] = cleaned_text['timestamp'].dt.year\n",
    "\n",
    "reviews_per_year = cleaned_text.groupby('year').size()\n",
    "ax = reviews_per_year.plot(kind = 'bar', figsize = (4,4), color = 'skyblue')\n",
    "ax.tick_params(axis='x', rotation=55)\n",
    "for i in ax.containers:\n",
    "    ax.bar_label(i, fontsize=8);\n"
   ]
  },
  {
   "cell_type": "markdown",
   "id": "59e2b460-9175-483a-bc8a-ee691ff89e61",
   "metadata": {},
   "source": [
    "## Feature Engineering \n",
    "\n",
    "Create new features: word count, average word length, exclamation mark count, and sentiment."
   ]
  },
  {
   "cell_type": "code",
   "execution_count": 63,
   "id": "6b41804b-742d-4359-84e4-7a998dd67937",
   "metadata": {},
   "outputs": [],
   "source": [
    "def word_count(text):\n",
    "    \"\"\"\n",
    "    Counts the number of words in the text.\n",
    "    \"\"\"\n",
    "    words = text.split()\n",
    "    return len(words)\n",
    "\n",
    "\n",
    "def avg_word_length(text):\n",
    "    \"\"\"\n",
    "    Returns the average word length in the text. \n",
    "    \"\"\"\n",
    "    # Check for empty or white-space only string \n",
    "    if not text.strip():\n",
    "        return 0\n",
    "        \n",
    "    words = text.split()\n",
    "    if not words:  # Check if words list is empty\n",
    "        return 0\n",
    "        \n",
    "    word_lengths = [len(word) for word in words]\n",
    "    avg_word_length = sum(word_lengths)/len(words)\n",
    "    \n",
    "    return(avg_word_length) \n",
    "\n",
    "\n",
    "def exclamation_count(text):\n",
    "    \"\"\"\n",
    "    Returns the number of exclamations in the text.\n",
    "    \"\"\"\n",
    "    doc = nlp(text)\n",
    "    exclamations = []\n",
    "    for token in doc: \n",
    "        if token.text == '!':\n",
    "            exclamations.append(token.text)\n",
    "    return len(exclamations)"
   ]
  },
  {
   "cell_type": "code",
   "execution_count": 9,
   "id": "cadd99cb-3c64-49dd-a247-8ad31b382a70",
   "metadata": {
    "scrolled": true
   },
   "outputs": [],
   "source": [
    "cleaned_text['word_count'] = cleaned_text['text'].apply(word_count)\n",
    "cleaned_text['avg_word_length'] = cleaned_text['text'].apply(avg_word_length)\n",
    "cleaned_text['exclamation_count'] = cleaned_text['text'].apply(exclamation_count)"
   ]
  },
  {
   "cell_type": "code",
   "execution_count": 10,
   "id": "56a3ea48-5387-49ea-8fa3-ae897b7711be",
   "metadata": {
    "scrolled": true
   },
   "outputs": [
    {
     "data": {
      "text/html": [
       "<div>\n",
       "<style scoped>\n",
       "    .dataframe tbody tr th:only-of-type {\n",
       "        vertical-align: middle;\n",
       "    }\n",
       "\n",
       "    .dataframe tbody tr th {\n",
       "        vertical-align: top;\n",
       "    }\n",
       "\n",
       "    .dataframe thead th {\n",
       "        text-align: right;\n",
       "    }\n",
       "</style>\n",
       "<table border=\"1\" class=\"dataframe\">\n",
       "  <thead>\n",
       "    <tr style=\"text-align: right;\">\n",
       "      <th></th>\n",
       "      <th>text</th>\n",
       "      <th>word_count</th>\n",
       "      <th>avg_word_length</th>\n",
       "      <th>exclamation_count</th>\n",
       "    </tr>\n",
       "  </thead>\n",
       "  <tbody>\n",
       "    <tr>\n",
       "      <th>0</th>\n",
       "      <td>Livid.  Once again received an obviously used ...</td>\n",
       "      <td>28</td>\n",
       "      <td>4.678571</td>\n",
       "      <td>2</td>\n",
       "    </tr>\n",
       "    <tr>\n",
       "      <th>1</th>\n",
       "      <td>I purchased these for multiple reasons. The ma...</td>\n",
       "      <td>546</td>\n",
       "      <td>3.937729</td>\n",
       "      <td>0</td>\n",
       "    </tr>\n",
       "    <tr>\n",
       "      <th>2</th>\n",
       "      <td>[[VIDEOID:c87e962bc893a948856b0f1b285ce6cc]] I...</td>\n",
       "      <td>319</td>\n",
       "      <td>4.047022</td>\n",
       "      <td>0</td>\n",
       "    </tr>\n",
       "  </tbody>\n",
       "</table>\n",
       "</div>"
      ],
      "text/plain": [
       "                                                text  word_count  \\\n",
       "0  Livid.  Once again received an obviously used ...          28   \n",
       "1  I purchased these for multiple reasons. The ma...         546   \n",
       "2  [[VIDEOID:c87e962bc893a948856b0f1b285ce6cc]] I...         319   \n",
       "\n",
       "   avg_word_length  exclamation_count  \n",
       "0         4.678571                  2  \n",
       "1         3.937729                  0  \n",
       "2         4.047022                  0  "
      ]
     },
     "execution_count": 10,
     "metadata": {},
     "output_type": "execute_result"
    }
   ],
   "source": [
    "cleaned_text[['text', 'word_count', 'avg_word_length', 'exclamation_count']].head(3)"
   ]
  },
  {
   "cell_type": "code",
   "execution_count": 11,
   "id": "12410e81-428e-42a6-962e-e84c02756280",
   "metadata": {},
   "outputs": [
    {
     "data": {
      "text/plain": [
       "count    10000.000000\n",
       "mean        52.426600\n",
       "std         60.472371\n",
       "min          0.000000\n",
       "25%         13.000000\n",
       "50%         33.000000\n",
       "75%         70.000000\n",
       "max        708.000000\n",
       "Name: word_count, dtype: float64"
      ]
     },
     "execution_count": 11,
     "metadata": {},
     "output_type": "execute_result"
    }
   ],
   "source": [
    "cleaned_text['word_count'].describe()"
   ]
  },
  {
   "cell_type": "code",
   "execution_count": 12,
   "id": "5de132a3-2403-4e1d-bdf8-59112dc9813d",
   "metadata": {},
   "outputs": [
    {
     "name": "stderr",
     "output_type": "stream",
     "text": [
      "C:\\Users\\MJ\\anaconda3\\Lib\\site-packages\\seaborn\\_oldcore.py:1119: FutureWarning: use_inf_as_na option is deprecated and will be removed in a future version. Convert inf values to NaN before operating instead.\n",
      "  with pd.option_context('mode.use_inf_as_na', True):\n"
     ]
    },
    {
     "data": {
      "image/png": "[encoded data removed]",
      "text/plain": [
       "<Figure size 500x500 with 1 Axes>"
      ]
     },
     "metadata": {},
     "output_type": "display_data"
    }
   ],
   "source": [
    "sns.displot(cleaned_text['word_count'],bins=25);"
   ]
  },
  {
   "cell_type": "code",
   "execution_count": 13,
   "id": "8bc842d5-18fc-4330-9d6d-e82c0e405858",
   "metadata": {},
   "outputs": [
    {
     "name": "stderr",
     "output_type": "stream",
     "text": [
      "C:\\Users\\MJ\\anaconda3\\Lib\\site-packages\\seaborn\\_oldcore.py:1119: FutureWarning: use_inf_as_na option is deprecated and will be removed in a future version. Convert inf values to NaN before operating instead.\n",
      "  with pd.option_context('mode.use_inf_as_na', True):\n"
     ]
    },
    {
     "data": {
      "image/png": "[encoded data removed]",
      "text/plain": [
       "<Figure size 500x500 with 1 Axes>"
      ]
     },
     "metadata": {},
     "output_type": "display_data"
    }
   ],
   "source": [
    "sns.displot(cleaned_text['exclamation_count'],bins=25);"
   ]
  },
  {
   "cell_type": "markdown",
   "id": "cd4824a8-b9ea-43cf-a93c-e2d2f9bac0bc",
   "metadata": {},
   "source": [
    "## Text Cleaning - spaCy"
   ]
  },
  {
   "cell_type": "code",
   "execution_count": 14,
   "id": "58cb3820-3f0d-4d8c-bfdf-bb545d1b81e4",
   "metadata": {},
   "outputs": [
    {
     "name": "stdout",
     "output_type": "stream",
     "text": [
      "Original stopwords count: 326\n",
      "{'whole', 'empty', 'full', 'own', 'serious', 'third', 'many', 'same', 'latter', 'least', 'various', 'several', 'whereafter', 'top', 'former', 'such', 'other', 'due', 'last'}\n",
      "Stopwords count: 301\n"
     ]
    }
   ],
   "source": [
    "stop_words = spacy.lang.en.stop_words.STOP_WORDS\n",
    "print('Original stopwords count:', len(stop_words))\n",
    "\n",
    "# Updating my stopwords list \n",
    "stop_words = spacy.lang.en.stop_words.STOP_WORDS\n",
    "\n",
    "# Include/ exclude certain words\n",
    "include_stopwords = {'would', 'I'}\n",
    "exclude_stopwords = {'i', 'well', 'off', 'very', 'not', 'few', 'much'}\n",
    "\n",
    "stop_words |= include_stopwords\n",
    "stop_words -= exclude_stopwords\n",
    "\n",
    "# Remove adjectives from my stopwords using spaCy\n",
    "exclude_adjectives = {word for word in stop_words if nlp(word)[0].pos_ == \"ADJ\"}\n",
    "print(exclude_adjectives)\n",
    "\n",
    "stop_words -= exclude_adjectives\n",
    "print('Stopwords count:', len(stop_words))"
   ]
  },
  {
   "cell_type": "code",
   "execution_count": 64,
   "id": "4409d870-e176-4674-8a86-7a60bc28fc22",
   "metadata": {},
   "outputs": [],
   "source": [
    "def clean_data(doc):\n",
    "    \"\"\"\n",
    "    Cleans and preprocesses a text document using spaCy.\n",
    "    \n",
    "    This function takes a text document as input, converts it to lowercase, \n",
    "    lemmatizes the words, removes non-alphabetic characters, and filters out stopwords. \n",
    "    The resulting cleaned text is returned as a single string. \n",
    "    \"\"\"\n",
    "    doc = doc.lower()\n",
    "    doc = nlp(doc)\n",
    "    # Lemmatize words \n",
    "    lemmas = [token.lemma_ for token in doc]\n",
    "    # Removing non-alphabetic characters and stopwords\n",
    "    tokens = [lemma for lemma in lemmas if lemma.isalpha() and lemma not in stop_words]\n",
    "    cleaned_doc = \" \".join(tokens)\n",
    "    \n",
    "    return cleaned_doc\n",
    "\n",
    "cleaned_text['spacy_text'] = cleaned_text['text'].apply(clean_data)"
   ]
  },
  {
   "cell_type": "code",
   "execution_count": 66,
   "id": "e3281f8c-b103-4cdc-81e3-8a49fd7eb37a",
   "metadata": {},
   "outputs": [
    {
     "name": "stdout",
     "output_type": "stream",
     "text": [
      "Title: Lid very loose- needs a gasket imo. Small base.\n",
      "\n",
      "Text: [[VIDEOID:c87e962bc893a948856b0f1b285ce6cc]] I wanted to love this bc I previously bought a matching turquoise teapot, but the loose lid (defective or design flaw? Idk) on the cups is driving me batty. I’m disabled so my gait is not great to begin with & the lid just bangs non-stop while I walk from my kitchen to wherever I’m going with my tea. It’s incredibly annoying.  I had hoped it was just a one-off so I purchased it in another color & sadly it has the same exact problem.  They could fix the problem by adding a rubber gasket or flange to the lid imo & I even thought of doing so myself until I accidentally knocked the cup over due to a design flaw that has a small base on the cup.  I like the lid bc I run a fan continuously & I live with 2 service dogs so I like to keep my drinks covered beyond just the brew times so I really hope they update this cup bc it does keep the tea warm & the size is perfect for a 2 cup brew.<br /><br />I wish they would fix the obvious design flaw of the base that is too small for a cup that tall & wide bc it is also very easy to accidentally knock over as I mentioned above.  I did it several times before I yet boxed them both back up.<br /><br />Overall I like the product as it seems as it was made with quality in mind, but missed the mark in the design phase.  The colors are pretty & the cups I purchased keep the tea warm, but the lids are either defective or a design flaw.  I really hope the company fixes these issue bc the colors match teapots I already own. Lol.  I intend to see if the company has another design that works better for me in the meantime.\n",
      "\n",
      "Text: videoid want love bc previously buy matching turquoise teapot loose lid defective design flaw idk cup drive batty disable gait not great begin lid bang non stop walk kitchen tea incredibly annoying hope off purchase color sadly same exact problem fix problem add rubber gasket flange lid imo think accidentally knock cup due design flaw small base cup like lid bc run fan continuously live service dog like drink cover brew time hope update cup bc tea warm size perfect cup wish fix obvious design flaw base small cup tall wide bc very easy accidentally knock mention several time box like product quality mind miss mark design phase color pretty cup purchase tea warm lid defective design flaw hope company fix issue bc color match teapot own lol intend company design work well meantime\n",
      "\n"
     ]
    }
   ],
   "source": [
    "i = 2\n",
    "print(f'Title: {cleaned_text.loc[i,\"title\"]}\\n')\n",
    "\n",
    "print(f'Text: {cleaned_text.loc[i,\"text\"]}\\n')\n",
    "\n",
    "print(f'Text: {cleaned_text.loc[i,\"spacy_text\"]}\\n')"
   ]
  },
  {
   "cell_type": "markdown",
   "id": "6df3e4a3-f3f1-4bf8-8a4f-768fde628eec",
   "metadata": {},
   "source": [
    "## Sentiment Analysis with Lexicons\n",
    "\n",
    "Unsupervised learning approach that involves evaluating the sentiment scores of words in a document based on predefined lexicons. A lexicon is a dictionary that contains a collection of words that is categorized as positive, negative, and neutral by experts. Each word's sentiment is determined, and the scores are combined to calculate the overall sentiment of the sentence. \n",
    "- Disadvantages: words that are not in the lexicon will not be scored; some lexicons might be better suited for a specific use; it overlooks negation (lexicons only match words and not phrases, ie \"not bad\" is scored more negative instead of neutral)"
   ]
  },
  {
   "cell_type": "markdown",
   "id": "97a4d30c-c991-4605-be1f-c9b401061210",
   "metadata": {},
   "source": [
    "### Bing Liu Lexicon\n",
    "\n",
    "The Bing Liu lexicon has a total of 6, 786 words with 2,005 classified as positive and 4,781 as negative. CLassification is binary (positive or negative)."
   ]
  },
  {
   "cell_type": "code",
   "execution_count": 17,
   "id": "b5887a47-ad06-4241-b7ce-5fa7f40bd806",
   "metadata": {},
   "outputs": [
    {
     "name": "stdout",
     "output_type": "stream",
     "text": [
      "Total number of words in opinion lexicon 6789\n",
      "Examples of positive words: ['a+', 'abound', 'abounds', 'abundance', 'abundant', 'accessable', 'accessible', 'acclaim', 'acclaimed', 'acclamation']\n",
      "Examples of negative words: ['2-faced', '2-faces', 'abnormal', 'abolish', 'abominable', 'abominably', 'abominate', 'abomination', 'abort', 'aborted']\n"
     ]
    }
   ],
   "source": [
    "print('Total number of words in opinion lexicon', len(opinion_lexicon.words()))\n",
    "print('Examples of positive words:', opinion_lexicon.positive()[:10])\n",
    "print('Examples of negative words:', opinion_lexicon.negative()[:10])"
   ]
  },
  {
   "cell_type": "code",
   "execution_count": 18,
   "id": "41e75ef3-dbe2-493f-86a5-91a5a010d001",
   "metadata": {},
   "outputs": [],
   "source": [
    "pos_score = 1\n",
    "neg_score = -1\n",
    "word_dict = {}\n",
    "\n",
    "# Adding the positive words to the dictionary\n",
    "for word in opinion_lexicon.positive():\n",
    "    word_dict[word] = pos_score \n",
    "\n",
    "# Adding the negative words to the dictionary \n",
    "for word in opinion_lexicon.negative():\n",
    "    word_dict[word] = neg_score \n",
    "\n",
    "def bing_liu_score(text):\n",
    "    sentiment_score = 0 \n",
    "    bag_of_words = word_tokenize(text.lower())\n",
    "\n",
    "    # Check if bag_of_words is empty\n",
    "    if bag_of_words: \n",
    "        for word in bag_of_words: \n",
    "            if word in word_dict: \n",
    "                sentiment_score += word_dict[word]\n",
    "        return sentiment_score / len(bag_of_words)\n",
    "    else: \n",
    "        return 0"
   ]
  },
  {
   "cell_type": "code",
   "execution_count": 19,
   "id": "91a39dd6-e6a5-4996-9102-8a7131a4cc02",
   "metadata": {
    "scrolled": true
   },
   "outputs": [],
   "source": [
    "cleaned_text['Bing_Liu_score'] = cleaned_text['text'].apply(bing_liu_score)\n",
    "cleaned_text['Bing_Liu_spaCy'] = cleaned_text['spacy_text'].apply(bing_liu_score)"
   ]
  },
  {
   "cell_type": "markdown",
   "id": "4291b896-3b1b-4c16-bd45-0d7890b08f86",
   "metadata": {},
   "source": [
    "### VADER Lexicon\n",
    "Rule-based lexicon. \n",
    "9,000 features with scales of [-4] Extremely Negative to [4] Extremely Positive with [0] for Neutral or Neither. "
   ]
  },
  {
   "cell_type": "code",
   "execution_count": 20,
   "id": "a3e75ea6-5546-46fa-b399-9bb22534db27",
   "metadata": {},
   "outputs": [],
   "source": [
    "model = SentimentIntensityAnalyzer()"
   ]
  },
  {
   "cell_type": "code",
   "execution_count": 21,
   "id": "c40cf930-a5ad-446a-a2d3-99f612ff4af6",
   "metadata": {},
   "outputs": [],
   "source": [
    "def vader_score(text):\n",
    "    score = model.polarity_scores(text)\n",
    "    compound_score = score['compound']\n",
    "    return compound_score"
   ]
  },
  {
   "cell_type": "code",
   "execution_count": 22,
   "id": "8627a1c6-8041-43a4-9498-df156b9c876c",
   "metadata": {
    "scrolled": true
   },
   "outputs": [],
   "source": [
    "cleaned_text['Vader_score'] = cleaned_text['text'].apply(vader_score)\n",
    "cleaned_text['Vader_spaCy'] = cleaned_text['spacy_text'].apply(vader_score)"
   ]
  },
  {
   "cell_type": "markdown",
   "id": "faf559f7-1a5a-4040-a35c-998d4f083f2c",
   "metadata": {},
   "source": [
    "### Lexicon Sentiment Accuracy Scores "
   ]
  },
  {
   "cell_type": "code",
   "execution_count": 23,
   "id": "09db1302-dad3-4cb5-ad16-e4cc7acaffd1",
   "metadata": {},
   "outputs": [
    {
     "data": {
      "text/html": [
       "<div>\n",
       "<style scoped>\n",
       "    .dataframe tbody tr th:only-of-type {\n",
       "        vertical-align: middle;\n",
       "    }\n",
       "\n",
       "    .dataframe tbody tr th {\n",
       "        vertical-align: top;\n",
       "    }\n",
       "\n",
       "    .dataframe thead th {\n",
       "        text-align: right;\n",
       "    }\n",
       "</style>\n",
       "<table border=\"1\" class=\"dataframe\">\n",
       "  <thead>\n",
       "    <tr style=\"text-align: right;\">\n",
       "      <th></th>\n",
       "      <th>Bing_Liu_score</th>\n",
       "      <th>Bing_Liu_spaCy</th>\n",
       "      <th>Vader_score</th>\n",
       "      <th>Vader_spaCy</th>\n",
       "    </tr>\n",
       "  </thead>\n",
       "  <tbody>\n",
       "    <tr>\n",
       "      <th>8450</th>\n",
       "      <td>0.068966</td>\n",
       "      <td>0.153846</td>\n",
       "      <td>0.7003</td>\n",
       "      <td>0.7003</td>\n",
       "    </tr>\n",
       "    <tr>\n",
       "      <th>8822</th>\n",
       "      <td>0.142857</td>\n",
       "      <td>0.227273</td>\n",
       "      <td>0.9524</td>\n",
       "      <td>0.9524</td>\n",
       "    </tr>\n",
       "    <tr>\n",
       "      <th>9382</th>\n",
       "      <td>0.166667</td>\n",
       "      <td>0.333333</td>\n",
       "      <td>0.5859</td>\n",
       "      <td>0.5859</td>\n",
       "    </tr>\n",
       "  </tbody>\n",
       "</table>\n",
       "</div>"
      ],
      "text/plain": [
       "      Bing_Liu_score  Bing_Liu_spaCy  Vader_score  Vader_spaCy\n",
       "8450        0.068966        0.153846       0.7003       0.7003\n",
       "8822        0.142857        0.227273       0.9524       0.9524\n",
       "9382        0.166667        0.333333       0.5859       0.5859"
      ]
     },
     "execution_count": 23,
     "metadata": {},
     "output_type": "execute_result"
    }
   ],
   "source": [
    "cleaned_text[['Bing_Liu_score', 'Bing_Liu_spaCy', 'Vader_score', 'Vader_spaCy']].sample(3)"
   ]
  },
  {
   "cell_type": "code",
   "execution_count": 24,
   "id": "fc64278e-05c5-4666-93dd-788f93858bea",
   "metadata": {},
   "outputs": [
    {
     "name": "stdout",
     "output_type": "stream",
     "text": [
      "   rating  Bing_Liu_score  Bing_Liu_spaCy  Vader_score  Vader_spaCy\n",
      "0       1       -0.031370       -0.063742    -0.115005    -0.038082\n",
      "1       2        0.003011        0.004356     0.100559     0.156293\n",
      "2       3        0.031123        0.062282     0.350320     0.365816\n",
      "3       4        0.066978        0.143764     0.663724     0.645764\n",
      "4       5        0.129455        0.249447     0.720333     0.710219\n"
     ]
    }
   ],
   "source": [
    "# Calculate mean sentiment score for each rating category\n",
    "mean_scores = cleaned_text.groupby('rating').agg({\n",
    "    'Bing_Liu_score':'mean',\n",
    "    'Bing_Liu_spaCy': 'mean',\n",
    "    'Vader_score': 'mean',\n",
    "    'Vader_spaCy': 'mean'\n",
    "}).reset_index()\n",
    "\n",
    "print(mean_scores)"
   ]
  },
  {
   "cell_type": "markdown",
   "id": "3af0e602-ab3f-44a4-b504-b0bc6917462e",
   "metadata": {},
   "source": [
    "## Sentiment Analysis - Supervised Learning Approach\n",
    "\n",
    "Using supervised learning models, we will classify the sentiment of a review based on pre-processed text from spaCy. Reviews will be classified as positive or negative sentiment based on their ratings:\n",
    "- Positive (1): records with ratings of 4 and 5.\n",
    "- Negative (0): records with ratings of 1 and 2.\n",
    "- Neutral: records with ratings of 3 are removed."
   ]
  },
  {
   "cell_type": "markdown",
   "id": "14a401e7-3234-46fe-87ab-52d0b9c5999d",
   "metadata": {},
   "source": [
    "### Feature Engineering: Sentiment Classification\n",
    "Create a new column in our dataset to classify records based on our ratings. "
   ]
  },
  {
   "cell_type": "code",
   "execution_count": 25,
   "id": "f6b6186d-b903-4629-918e-eb4202fa8b62",
   "metadata": {},
   "outputs": [],
   "source": [
    "cleaned_text['sentiment'] = 0\n",
    "\n",
    "# Classify records with rating higher than a 3, positive (1)\n",
    "cleaned_text.loc[cleaned_text['rating'] > 3, 'sentiment'] = 1\n",
    "\n",
    "# Classify records with rating lower than a 3, negative (0)\n",
    "cleaned_text.loc[cleaned_text['rating'] < 3, 'sentiment'] = 0\n",
    "\n",
    "# Remove records with a rating of 3\n",
    "cleaned_text = cleaned_text.loc[cleaned_text['rating'] != 3].reset_index(drop=True)"
   ]
  },
  {
   "cell_type": "code",
   "execution_count": 26,
   "id": "808f0a04-9199-4976-84bd-241c4d687637",
   "metadata": {
    "scrolled": true
   },
   "outputs": [
    {
     "name": "stdout",
     "output_type": "stream",
     "text": [
      "Record count: 9351\n"
     ]
    }
   ],
   "source": [
    "# Remove observations that are empty after the cleaning step\n",
    "cleaned_text = cleaned_text[cleaned_text['spacy_text'].str.len() != 0]\n",
    "print('Record count:', len(cleaned_text))"
   ]
  },
  {
   "cell_type": "markdown",
   "id": "9f256a0b-d891-4f51-bfa6-066fd99e27a7",
   "metadata": {},
   "source": [
    "### Text Vectorization with TF-IDF\n",
    "Use TF-IDF vectorizer to transform the text into vectors based on the frequency of words in the text:"
   ]
  },
  {
   "cell_type": "code",
   "execution_count": 27,
   "id": "0803a5db-c674-45f5-aca2-9b50b466abde",
   "metadata": {},
   "outputs": [],
   "source": [
    "tfidf = TfidfVectorizer()\n",
    "clf = MultinomialNB()\n",
    "\n",
    "pipe = Pipeline([(\"tfidf\", tfidf), (\"clf\", clf)])\n",
    "\n",
    "param_grid = {\n",
    "    'tfidf__ngram_range':[(1,1), (1,2), (1,3)],\n",
    "    'tfidf__min_df':[1, 2, 5, 10, 20],\n",
    "    'clf__fit_prior':[False, True]\n",
    "}"
   ]
  },
  {
   "cell_type": "markdown",
   "id": "9e2445f1-b528-4359-80b5-56f4bafea75b",
   "metadata": {},
   "source": [
    "### Model training and Evaluation\n",
    "The following models will be used in our analysis:\n",
    "- Logistic Regression: a linear model for binary classification.\n",
    "- Linear Support Vector Classification (SVC): A classifier that constructs a hyperplane to separate classes.\n",
    "- Randomized Search Cross-Validation: A technique to tune hyperparameters for improving model performance."
   ]
  },
  {
   "cell_type": "markdown",
   "id": "8eb3915c-c8ba-41ee-bb30-d496d9db0fd3",
   "metadata": {},
   "source": [
    "#### Randomized Search Cross Validation"
   ]
  },
  {
   "cell_type": "code",
   "execution_count": 29,
   "id": "bbaec5eb-cf1b-43d2-a74d-12ecf4f358f8",
   "metadata": {},
   "outputs": [],
   "source": [
    "X = cleaned_text[['spacy_text']]\n",
    "y = cleaned_text['sentiment']\n",
    "\n",
    "X_train, X_test, y_train, y_test = train_test_split(X, y, test_size = 0.20, random_state = 42, stratify = y)"
   ]
  },
  {
   "cell_type": "code",
   "execution_count": 30,
   "id": "c993a49f-5766-4312-a72d-5dcaf117959d",
   "metadata": {},
   "outputs": [
    {
     "name": "stdout",
     "output_type": "stream",
     "text": [
      "Fitting 5 folds for each of 10 candidates, totalling 50 fits\n"
     ]
    },
    {
     "data": {
      "text/html": [
       "<style>#sk-container-id-1 {color: black;background-color: white;}#sk-container-id-1 pre{padding: 0;}#sk-container-id-1 div.sk-toggleable {background-color: white;}#sk-container-id-1 label.sk-toggleable__label {cursor: pointer;display: block;width: 100%;margin-bottom: 0;padding: 0.3em;box-sizing: border-box;text-align: center;}#sk-container-id-1 label.sk-toggleable__label-arrow:before {content: \"▸\";float: left;margin-right: 0.25em;color: #696969;}#sk-container-id-1 label.sk-toggleable__label-arrow:hover:before {color: black;}#sk-container-id-1 div.sk-estimator:hover label.sk-toggleable__label-arrow:before {color: black;}#sk-container-id-1 div.sk-toggleable__content {max-height: 0;max-width: 0;overflow: hidden;text-align: left;background-color: #f0f8ff;}#sk-container-id-1 div.sk-toggleable__content pre {margin: 0.2em;color: black;border-radius: 0.25em;background-color: #f0f8ff;}#sk-container-id-1 input.sk-toggleable__control:checked~div.sk-toggleable__content {max-height: 200px;max-width: 100%;overflow: auto;}#sk-container-id-1 input.sk-toggleable__control:checked~label.sk-toggleable__label-arrow:before {content: \"▾\";}#sk-container-id-1 div.sk-estimator input.sk-toggleable__control:checked~label.sk-toggleable__label {background-color: #d4ebff;}#sk-container-id-1 div.sk-label input.sk-toggleable__control:checked~label.sk-toggleable__label {background-color: #d4ebff;}#sk-container-id-1 input.sk-hidden--visually {border: 0;clip: rect(1px 1px 1px 1px);clip: rect(1px, 1px, 1px, 1px);height: 1px;margin: -1px;overflow: hidden;padding: 0;position: absolute;width: 1px;}#sk-container-id-1 div.sk-estimator {font-family: monospace;background-color: #f0f8ff;border: 1px dotted black;border-radius: 0.25em;box-sizing: border-box;margin-bottom: 0.5em;}#sk-container-id-1 div.sk-estimator:hover {background-color: #d4ebff;}#sk-container-id-1 div.sk-parallel-item::after {content: \"\";width: 100%;border-bottom: 1px solid gray;flex-grow: 1;}#sk-container-id-1 div.sk-label:hover label.sk-toggleable__label {background-color: #d4ebff;}#sk-container-id-1 div.sk-serial::before {content: \"\";position: absolute;border-left: 1px solid gray;box-sizing: border-box;top: 0;bottom: 0;left: 50%;z-index: 0;}#sk-container-id-1 div.sk-serial {display: flex;flex-direction: column;align-items: center;background-color: white;padding-right: 0.2em;padding-left: 0.2em;position: relative;}#sk-container-id-1 div.sk-item {position: relative;z-index: 1;}#sk-container-id-1 div.sk-parallel {display: flex;align-items: stretch;justify-content: center;background-color: white;position: relative;}#sk-container-id-1 div.sk-item::before, #sk-container-id-1 div.sk-parallel-item::before {content: \"\";position: absolute;border-left: 1px solid gray;box-sizing: border-box;top: 0;bottom: 0;left: 50%;z-index: -1;}#sk-container-id-1 div.sk-parallel-item {display: flex;flex-direction: column;z-index: 1;position: relative;background-color: white;}#sk-container-id-1 div.sk-parallel-item:first-child::after {align-self: flex-end;width: 50%;}#sk-container-id-1 div.sk-parallel-item:last-child::after {align-self: flex-start;width: 50%;}#sk-container-id-1 div.sk-parallel-item:only-child::after {width: 0;}#sk-container-id-1 div.sk-dashed-wrapped {border: 1px dashed gray;margin: 0 0.4em 0.5em 0.4em;box-sizing: border-box;padding-bottom: 0.4em;background-color: white;}#sk-container-id-1 div.sk-label label {font-family: monospace;font-weight: bold;display: inline-block;line-height: 1.2em;}#sk-container-id-1 div.sk-label-container {text-align: center;}#sk-container-id-1 div.sk-container {/* jupyter's `normalize.less` sets `[hidden] { display: none; }` but bootstrap.min.css set `[hidden] { display: none !important; }` so we also need the `!important` here to be able to override the default hidden behavior on the sphinx rendered scikit-learn.org. See: https://github.com/scikit-learn/scikit-learn/issues/21755 */display: inline-block !important;position: relative;}#sk-container-id-1 div.sk-text-repr-fallback {display: none;}</style><div id=\"sk-container-id-1\" class=\"sk-top-container\"><div class=\"sk-text-repr-fallback\"><pre>RandomizedSearchCV(estimator=Pipeline(steps=[(&#x27;tfidf&#x27;, TfidfVectorizer()),\n",
       "                                             (&#x27;clf&#x27;, MultinomialNB())]),\n",
       "                   n_jobs=-1,\n",
       "                   param_distributions={&#x27;clf__fit_prior&#x27;: [False, True],\n",
       "                                        &#x27;tfidf__min_df&#x27;: [1, 2, 5, 10, 20],\n",
       "                                        &#x27;tfidf__ngram_range&#x27;: [(1, 1), (1, 2),\n",
       "                                                               (1, 3)]},\n",
       "                   verbose=2)</pre><b>In a Jupyter environment, please rerun this cell to show the HTML representation or trust the notebook. <br />On GitHub, the HTML representation is unable to render, please try loading this page with nbviewer.org.</b></div><div class=\"sk-container\" hidden><div class=\"sk-item sk-dashed-wrapped\"><div class=\"sk-label-container\"><div class=\"sk-label sk-toggleable\"><input class=\"sk-toggleable__control sk-hidden--visually\" id=\"sk-estimator-id-1\" type=\"checkbox\" ><label for=\"sk-estimator-id-1\" class=\"sk-toggleable__label sk-toggleable__label-arrow\">RandomizedSearchCV</label><div class=\"sk-toggleable__content\"><pre>RandomizedSearchCV(estimator=Pipeline(steps=[(&#x27;tfidf&#x27;, TfidfVectorizer()),\n",
       "                                             (&#x27;clf&#x27;, MultinomialNB())]),\n",
       "                   n_jobs=-1,\n",
       "                   param_distributions={&#x27;clf__fit_prior&#x27;: [False, True],\n",
       "                                        &#x27;tfidf__min_df&#x27;: [1, 2, 5, 10, 20],\n",
       "                                        &#x27;tfidf__ngram_range&#x27;: [(1, 1), (1, 2),\n",
       "                                                               (1, 3)]},\n",
       "                   verbose=2)</pre></div></div></div><div class=\"sk-parallel\"><div class=\"sk-parallel-item\"><div class=\"sk-item\"><div class=\"sk-label-container\"><div class=\"sk-label sk-toggleable\"><input class=\"sk-toggleable__control sk-hidden--visually\" id=\"sk-estimator-id-2\" type=\"checkbox\" ><label for=\"sk-estimator-id-2\" class=\"sk-toggleable__label sk-toggleable__label-arrow\">estimator: Pipeline</label><div class=\"sk-toggleable__content\"><pre>Pipeline(steps=[(&#x27;tfidf&#x27;, TfidfVectorizer()), (&#x27;clf&#x27;, MultinomialNB())])</pre></div></div></div><div class=\"sk-serial\"><div class=\"sk-item\"><div class=\"sk-serial\"><div class=\"sk-item\"><div class=\"sk-estimator sk-toggleable\"><input class=\"sk-toggleable__control sk-hidden--visually\" id=\"sk-estimator-id-3\" type=\"checkbox\" ><label for=\"sk-estimator-id-3\" class=\"sk-toggleable__label sk-toggleable__label-arrow\">TfidfVectorizer</label><div class=\"sk-toggleable__content\"><pre>TfidfVectorizer()</pre></div></div></div><div class=\"sk-item\"><div class=\"sk-estimator sk-toggleable\"><input class=\"sk-toggleable__control sk-hidden--visually\" id=\"sk-estimator-id-4\" type=\"checkbox\" ><label for=\"sk-estimator-id-4\" class=\"sk-toggleable__label sk-toggleable__label-arrow\">MultinomialNB</label><div class=\"sk-toggleable__content\"><pre>MultinomialNB()</pre></div></div></div></div></div></div></div></div></div></div></div></div>"
      ],
      "text/plain": [
       "RandomizedSearchCV(estimator=Pipeline(steps=[('tfidf', TfidfVectorizer()),\n",
       "                                             ('clf', MultinomialNB())]),\n",
       "                   n_jobs=-1,\n",
       "                   param_distributions={'clf__fit_prior': [False, True],\n",
       "                                        'tfidf__min_df': [1, 2, 5, 10, 20],\n",
       "                                        'tfidf__ngram_range': [(1, 1), (1, 2),\n",
       "                                                               (1, 3)]},\n",
       "                   verbose=2)"
      ]
     },
     "execution_count": 30,
     "metadata": {},
     "output_type": "execute_result"
    }
   ],
   "source": [
    "rs = RandomizedSearchCV(estimator = pipe, param_distributions = param_grid, verbose = 2, n_jobs = -1)\n",
    "rs.fit(X_train['spacy_text'], y_train)"
   ]
  },
  {
   "cell_type": "code",
   "execution_count": 31,
   "id": "3ec48043-0d29-460b-8f3a-f08b4b35cfa3",
   "metadata": {
    "scrolled": true
   },
   "outputs": [
    {
     "name": "stdout",
     "output_type": "stream",
     "text": [
      "Accuracy: 0.9363976483164084\n",
      "ROC-AUC Score: 0.7182808707495416\n",
      "Classification Report: \n",
      "               precision    recall  f1-score   support\n",
      "\n",
      "           0       0.66      0.46      0.54       153\n",
      "           1       0.95      0.98      0.97      1718\n",
      "\n",
      "    accuracy                           0.94      1871\n",
      "   macro avg       0.81      0.72      0.75      1871\n",
      "weighted avg       0.93      0.94      0.93      1871\n",
      "\n",
      "Confusion Matrix: \n",
      " [[  70   83]\n",
      " [  36 1682]]\n"
     ]
    }
   ],
   "source": [
    "y_pred = rs.predict(X_test['spacy_text'])\n",
    "\n",
    "print(f'Accuracy: {accuracy_score(y_test, y_pred)}')\n",
    "print(f'ROC-AUC Score: {roc_auc_score(y_test, y_pred)}')\n",
    "print(f'Classification Report: \\n {classification_report(y_test,y_pred, zero_division = 0.0)}')\n",
    "print(f'Confusion Matrix: \\n {confusion_matrix(y_test, y_pred)}')"
   ]
  },
  {
   "cell_type": "code",
   "execution_count": 32,
   "id": "e19778ff-0d0c-4f66-b573-a251b0eb71ff",
   "metadata": {},
   "outputs": [
    {
     "name": "stdout",
     "output_type": "stream",
     "text": [
      "{'tfidf__ngram_range': (1, 3), 'tfidf__min_df': 5, 'clf__fit_prior': False}\n",
      "0.9367647058823529\n"
     ]
    }
   ],
   "source": [
    "# Finding the best parameters \n",
    "print(rs.best_params_)\n",
    "print(rs.best_score_)"
   ]
  },
  {
   "cell_type": "code",
   "execution_count": 33,
   "id": "0aa6abe1-983a-4f26-96b8-0d960184d850",
   "metadata": {},
   "outputs": [
    {
     "data": {
      "image/png": "[encoded data removed]",
      "text/plain": [
       "<Figure size 640x480 with 1 Axes>"
      ]
     },
     "metadata": {},
     "output_type": "display_data"
    },
    {
     "name": "stdout",
     "output_type": "stream",
     "text": [
      "0.9118826420750683\n"
     ]
    }
   ],
   "source": [
    "sentiment_prob = rs.predict_proba(X_test['spacy_text'])\n",
    "positive_class_prob = sentiment_prob[:, 1]\n",
    "\n",
    "# Calculate ROC curve\n",
    "fpr, tpr, thresholds = roc_curve(y_test, positive_class_prob, pos_label=1)\n",
    "\n",
    "# Plot ROC curve\n",
    "plt.plot([0, 1], [0, 1], 'k--')\n",
    "plt.plot(fpr, tpr)\n",
    "plt.xlabel('False Positive Rate')\n",
    "plt.ylabel('True Positive Rate')\n",
    "plt.title('Randomized Search Cross Validation ROC Curve')\n",
    "plt.show()\n",
    "\n",
    "print(roc_auc_score(y_test, positive_class_prob))"
   ]
  },
  {
   "cell_type": "markdown",
   "id": "3d3c2d22-5ad5-4795-a801-69a91c2e44da",
   "metadata": {},
   "source": [
    "#### Linear Support Vector Classification (SVC)"
   ]
  },
  {
   "cell_type": "code",
   "execution_count": 34,
   "id": "21bd5f07-fd4c-49dc-a404-e30f2faa3254",
   "metadata": {},
   "outputs": [
    {
     "data": {
      "text/html": [
       "<style>#sk-container-id-2 {color: black;background-color: white;}#sk-container-id-2 pre{padding: 0;}#sk-container-id-2 div.sk-toggleable {background-color: white;}#sk-container-id-2 label.sk-toggleable__label {cursor: pointer;display: block;width: 100%;margin-bottom: 0;padding: 0.3em;box-sizing: border-box;text-align: center;}#sk-container-id-2 label.sk-toggleable__label-arrow:before {content: \"▸\";float: left;margin-right: 0.25em;color: #696969;}#sk-container-id-2 label.sk-toggleable__label-arrow:hover:before {color: black;}#sk-container-id-2 div.sk-estimator:hover label.sk-toggleable__label-arrow:before {color: black;}#sk-container-id-2 div.sk-toggleable__content {max-height: 0;max-width: 0;overflow: hidden;text-align: left;background-color: #f0f8ff;}#sk-container-id-2 div.sk-toggleable__content pre {margin: 0.2em;color: black;border-radius: 0.25em;background-color: #f0f8ff;}#sk-container-id-2 input.sk-toggleable__control:checked~div.sk-toggleable__content {max-height: 200px;max-width: 100%;overflow: auto;}#sk-container-id-2 input.sk-toggleable__control:checked~label.sk-toggleable__label-arrow:before {content: \"▾\";}#sk-container-id-2 div.sk-estimator input.sk-toggleable__control:checked~label.sk-toggleable__label {background-color: #d4ebff;}#sk-container-id-2 div.sk-label input.sk-toggleable__control:checked~label.sk-toggleable__label {background-color: #d4ebff;}#sk-container-id-2 input.sk-hidden--visually {border: 0;clip: rect(1px 1px 1px 1px);clip: rect(1px, 1px, 1px, 1px);height: 1px;margin: -1px;overflow: hidden;padding: 0;position: absolute;width: 1px;}#sk-container-id-2 div.sk-estimator {font-family: monospace;background-color: #f0f8ff;border: 1px dotted black;border-radius: 0.25em;box-sizing: border-box;margin-bottom: 0.5em;}#sk-container-id-2 div.sk-estimator:hover {background-color: #d4ebff;}#sk-container-id-2 div.sk-parallel-item::after {content: \"\";width: 100%;border-bottom: 1px solid gray;flex-grow: 1;}#sk-container-id-2 div.sk-label:hover label.sk-toggleable__label {background-color: #d4ebff;}#sk-container-id-2 div.sk-serial::before {content: \"\";position: absolute;border-left: 1px solid gray;box-sizing: border-box;top: 0;bottom: 0;left: 50%;z-index: 0;}#sk-container-id-2 div.sk-serial {display: flex;flex-direction: column;align-items: center;background-color: white;padding-right: 0.2em;padding-left: 0.2em;position: relative;}#sk-container-id-2 div.sk-item {position: relative;z-index: 1;}#sk-container-id-2 div.sk-parallel {display: flex;align-items: stretch;justify-content: center;background-color: white;position: relative;}#sk-container-id-2 div.sk-item::before, #sk-container-id-2 div.sk-parallel-item::before {content: \"\";position: absolute;border-left: 1px solid gray;box-sizing: border-box;top: 0;bottom: 0;left: 50%;z-index: -1;}#sk-container-id-2 div.sk-parallel-item {display: flex;flex-direction: column;z-index: 1;position: relative;background-color: white;}#sk-container-id-2 div.sk-parallel-item:first-child::after {align-self: flex-end;width: 50%;}#sk-container-id-2 div.sk-parallel-item:last-child::after {align-self: flex-start;width: 50%;}#sk-container-id-2 div.sk-parallel-item:only-child::after {width: 0;}#sk-container-id-2 div.sk-dashed-wrapped {border: 1px dashed gray;margin: 0 0.4em 0.5em 0.4em;box-sizing: border-box;padding-bottom: 0.4em;background-color: white;}#sk-container-id-2 div.sk-label label {font-family: monospace;font-weight: bold;display: inline-block;line-height: 1.2em;}#sk-container-id-2 div.sk-label-container {text-align: center;}#sk-container-id-2 div.sk-container {/* jupyter's `normalize.less` sets `[hidden] { display: none; }` but bootstrap.min.css set `[hidden] { display: none !important; }` so we also need the `!important` here to be able to override the default hidden behavior on the sphinx rendered scikit-learn.org. See: https://github.com/scikit-learn/scikit-learn/issues/21755 */display: inline-block !important;position: relative;}#sk-container-id-2 div.sk-text-repr-fallback {display: none;}</style><div id=\"sk-container-id-2\" class=\"sk-top-container\"><div class=\"sk-text-repr-fallback\"><pre>LinearSVC(max_iter=10000, random_state=42, tol=1e-05)</pre><b>In a Jupyter environment, please rerun this cell to show the HTML representation or trust the notebook. <br />On GitHub, the HTML representation is unable to render, please try loading this page with nbviewer.org.</b></div><div class=\"sk-container\" hidden><div class=\"sk-item\"><div class=\"sk-estimator sk-toggleable\"><input class=\"sk-toggleable__control sk-hidden--visually\" id=\"sk-estimator-id-5\" type=\"checkbox\" checked><label for=\"sk-estimator-id-5\" class=\"sk-toggleable__label sk-toggleable__label-arrow\">LinearSVC</label><div class=\"sk-toggleable__content\"><pre>LinearSVC(max_iter=10000, random_state=42, tol=1e-05)</pre></div></div></div></div></div>"
      ],
      "text/plain": [
       "LinearSVC(max_iter=10000, random_state=42, tol=1e-05)"
      ]
     },
     "execution_count": 34,
     "metadata": {},
     "output_type": "execute_result"
    }
   ],
   "source": [
    "tfidf = TfidfVectorizer(min_df = 5, ngram_range = (1,3))\n",
    "\n",
    "X_train_tf = tfidf.fit_transform(X_train['spacy_text'])\n",
    "X_test_tf = tfidf.transform(X_test['spacy_text'])\n",
    "\n",
    "linear = LinearSVC(random_state = 42, tol = 1e-5, max_iter = 10000)\n",
    "linear.fit(X_train_tf, y_train)"
   ]
  },
  {
   "cell_type": "code",
   "execution_count": 35,
   "id": "9fd6dfe9-da5c-4585-84f6-92104737f72f",
   "metadata": {},
   "outputs": [
    {
     "name": "stdout",
     "output_type": "stream",
     "text": [
      "Accuracy: 0.9540352752538749\n",
      "ROC-AUC Score: 0.7457466882756207\n",
      "Classification Report: \n",
      "               precision    recall  f1-score   support\n",
      "\n",
      "           0       0.89      0.50      0.64       153\n",
      "           1       0.96      0.99      0.98      1718\n",
      "\n",
      "    accuracy                           0.95      1871\n",
      "   macro avg       0.93      0.75      0.81      1871\n",
      "weighted avg       0.95      0.95      0.95      1871\n",
      "\n",
      "Confusion Matrix: \n",
      " [[  76   77]\n",
      " [   9 1709]]\n"
     ]
    }
   ],
   "source": [
    "y_pred = linear.predict(X_test_tf)\n",
    "\n",
    "print(f'Accuracy: {accuracy_score(y_test, y_pred)}')\n",
    "print(f'ROC-AUC Score: {roc_auc_score(y_test, y_pred)}')\n",
    "print(f'Classification Report: \\n {classification_report(y_test,y_pred, zero_division = 0.0)}')\n",
    "print(f'Confusion Matrix: \\n {confusion_matrix(y_test, y_pred)}')"
   ]
  },
  {
   "cell_type": "markdown",
   "id": "d9fbae27-0c2a-48a2-a2d1-5369f60989c4",
   "metadata": {},
   "source": [
    "### Logistic Regression"
   ]
  },
  {
   "cell_type": "code",
   "execution_count": 36,
   "id": "d408732c-5c48-432d-a38d-51a45be5c840",
   "metadata": {},
   "outputs": [],
   "source": [
    "tfidf_log = TfidfVectorizer(min_df = 10, ngram_range = (1,3))\n",
    "\n",
    "X_train_tf = tfidf_log.fit_transform(X_train['spacy_text'])\n",
    "X_test_tf = tfidf_log.transform(X_test['spacy_text'])\n",
    "\n",
    "logreg = LogisticRegression(max_iter = 1000).fit(X_train_tf, y_train)"
   ]
  },
  {
   "cell_type": "code",
   "execution_count": 37,
   "id": "e35841c1-b8bb-4a2d-ba53-a4323e4a01c8",
   "metadata": {},
   "outputs": [
    {
     "name": "stdout",
     "output_type": "stream",
     "text": [
      "Accuracy: 0.9374665954035275\n",
      "ROC-AUC Score: 0.6265778721267319\n",
      "Classification Report: \n",
      "               precision    recall  f1-score   support\n",
      "\n",
      "           0       0.93      0.25      0.40       153\n",
      "           1       0.94      1.00      0.97      1718\n",
      "\n",
      "    accuracy                           0.94      1871\n",
      "   macro avg       0.93      0.63      0.68      1871\n",
      "weighted avg       0.94      0.94      0.92      1871\n",
      "\n",
      "Confusion Matrix: \n",
      " [[  39  114]\n",
      " [   3 1715]]\n"
     ]
    }
   ],
   "source": [
    "y_pred = logreg.predict(X_test_tf)\n",
    "\n",
    "print(f'Accuracy: {accuracy_score(y_test, y_pred)}')\n",
    "print(f'ROC-AUC Score: {roc_auc_score(y_test, y_pred)}')\n",
    "print(f'Classification Report: \\n {classification_report(y_test,y_pred, zero_division = 0.0)}')\n",
    "print(f'Confusion Matrix: \\n {confusion_matrix(y_test, y_pred)}')"
   ]
  },
  {
   "cell_type": "code",
   "execution_count": 38,
   "id": "cf9ad3d8-f652-4b6d-9081-6e852c5c670d",
   "metadata": {
    "scrolled": true
   },
   "outputs": [
    {
     "data": {
      "text/html": [
       "<div>\n",
       "<style scoped>\n",
       "    .dataframe tbody tr th:only-of-type {\n",
       "        vertical-align: middle;\n",
       "    }\n",
       "\n",
       "    .dataframe tbody tr th {\n",
       "        vertical-align: top;\n",
       "    }\n",
       "\n",
       "    .dataframe thead th {\n",
       "        text-align: right;\n",
       "    }\n",
       "</style>\n",
       "<table border=\"1\" class=\"dataframe\">\n",
       "  <thead>\n",
       "    <tr style=\"text-align: right;\">\n",
       "      <th></th>\n",
       "      <th>variable</th>\n",
       "      <th>coefficient</th>\n",
       "    </tr>\n",
       "  </thead>\n",
       "  <tbody>\n",
       "    <tr>\n",
       "      <th>1369</th>\n",
       "      <td>love</td>\n",
       "      <td>4.453039</td>\n",
       "    </tr>\n",
       "    <tr>\n",
       "      <th>957</th>\n",
       "      <td>great</td>\n",
       "      <td>3.958642</td>\n",
       "    </tr>\n",
       "    <tr>\n",
       "      <th>1540</th>\n",
       "      <td>nice</td>\n",
       "      <td>3.886642</td>\n",
       "    </tr>\n",
       "    <tr>\n",
       "      <th>653</th>\n",
       "      <td>easy</td>\n",
       "      <td>3.403961</td>\n",
       "    </tr>\n",
       "    <tr>\n",
       "      <th>1820</th>\n",
       "      <td>perfect</td>\n",
       "      <td>3.228035</td>\n",
       "    </tr>\n",
       "    <tr>\n",
       "      <th>...</th>\n",
       "      <td>...</td>\n",
       "      <td>...</td>\n",
       "    </tr>\n",
       "    <tr>\n",
       "      <th>2928</th>\n",
       "      <td>waste</td>\n",
       "      <td>-2.948213</td>\n",
       "    </tr>\n",
       "    <tr>\n",
       "      <th>305</th>\n",
       "      <td>cheap</td>\n",
       "      <td>-2.989884</td>\n",
       "    </tr>\n",
       "    <tr>\n",
       "      <th>585</th>\n",
       "      <td>disappointed</td>\n",
       "      <td>-3.408069</td>\n",
       "    </tr>\n",
       "    <tr>\n",
       "      <th>2132</th>\n",
       "      <td>return</td>\n",
       "      <td>-4.378082</td>\n",
       "    </tr>\n",
       "    <tr>\n",
       "      <th>1583</th>\n",
       "      <td>not</td>\n",
       "      <td>-5.388884</td>\n",
       "    </tr>\n",
       "  </tbody>\n",
       "</table>\n",
       "<p>3062 rows × 2 columns</p>\n",
       "</div>"
      ],
      "text/plain": [
       "          variable  coefficient\n",
       "1369          love     4.453039\n",
       "957          great     3.958642\n",
       "1540          nice     3.886642\n",
       "653           easy     3.403961\n",
       "1820       perfect     3.228035\n",
       "...            ...          ...\n",
       "2928         waste    -2.948213\n",
       "305          cheap    -2.989884\n",
       "585   disappointed    -3.408069\n",
       "2132        return    -4.378082\n",
       "1583           not    -5.388884\n",
       "\n",
       "[3062 rows x 2 columns]"
      ]
     },
     "execution_count": 38,
     "metadata": {},
     "output_type": "execute_result"
    }
   ],
   "source": [
    "features = None\n",
    "features = tfidf_log.get_feature_names_out(features)\n",
    "\n",
    "sentiment = 0\n",
    "idx = list(logreg.classes_).index(sentiment)\n",
    "\n",
    "\n",
    "# # Extract coefficients from the Logistic Regression model \n",
    "intercept = logreg.intercept_[idx]\n",
    "coefficients = logreg.coef_[idx]\n",
    "\n",
    "coefficients_df = pd.DataFrame({\n",
    "    'variable': ['intercept'] + list(features),\n",
    "    'coefficient': [intercept] + list(coefficients)\n",
    "})\n",
    "\n",
    "coefficients_df.sort_values(by = 'coefficient', ascending = False)\n"
   ]
  },
  {
   "cell_type": "markdown",
   "id": "9afe1764-c30e-4429-ad42-8450ff1c2c06",
   "metadata": {},
   "source": [
    "### Train-Test Split with Other Features"
   ]
  },
  {
   "cell_type": "code",
   "execution_count": 39,
   "id": "515a6d4f-2c36-4895-9eec-1ccef8639a63",
   "metadata": {},
   "outputs": [
    {
     "data": {
      "text/plain": [
       "Index(['rating', 'title', 'text', 'images', 'asin', 'parent_asin', 'user_id',\n",
       "       'timestamp', 'helpful_vote', 'verified_purchase', 'year', 'word_count',\n",
       "       'avg_word_length', 'exclamation_count', 'spacy_text', 'Bing_Liu_score',\n",
       "       'Bing_Liu_spaCy', 'Vader_score', 'Vader_spaCy', 'sentiment'],\n",
       "      dtype='object')"
      ]
     },
     "execution_count": 39,
     "metadata": {},
     "output_type": "execute_result"
    }
   ],
   "source": [
    "cleaned_text.columns"
   ]
  },
  {
   "cell_type": "code",
   "execution_count": 40,
   "id": "d34fea75-ab28-41e4-958a-827e438b0231",
   "metadata": {},
   "outputs": [],
   "source": [
    "variables = ['rating', 'helpful_vote', 'verified_purchase', 'word_count', 'avg_word_length', \n",
    "            'exclamation_count', 'spacy_text', 'Bing_Liu_score', 'Bing_Liu_spaCy', 'Vader_score', 'Vader_spaCy']\n",
    "X = cleaned_text[variables]\n",
    "y = cleaned_text['sentiment']\n",
    "\n",
    "X_train, X_test, y_train, y_test = train_test_split(X, y, test_size = 0.20, random_state = 42, stratify = y)"
   ]
  },
  {
   "cell_type": "code",
   "execution_count": 41,
   "id": "3d92946e-dd0c-4963-a758-3aa28b798109",
   "metadata": {},
   "outputs": [
    {
     "name": "stdout",
     "output_type": "stream",
     "text": [
      "Size of Training Data  7480\n",
      "Size of Test Data  1871\n",
      "Distribution of classes in Training Data :\n",
      "Positive Sentiment  91.81818181818183\n",
      "Negative Sentiment  8.181818181818182\n",
      "Distribution of classes in Testing Data :\n",
      "Positive Sentiment  91.82255478353821\n",
      "Negative Sentiment  8.177445216461784\n"
     ]
    }
   ],
   "source": [
    "print ('Size of Training Data ', X_train.shape[0])\n",
    "print ('Size of Test Data ', X_test.shape[0])\n",
    "print ('Distribution of classes in Training Data :')\n",
    "print ('Positive Sentiment ', str(sum(y_train == 1)/ len(y_train) * 100.0))\n",
    "print ('Negative Sentiment ', str(sum(y_train == 0)/ len(y_train) * 100.0))\n",
    "print ('Distribution of classes in Testing Data :')\n",
    "print ('Positive Sentiment ', str(sum(y_test == 1)/ len(y_test) * 100.0))\n",
    "print ('Negative Sentiment ', str(sum(y_test == 0)/ len(y_test) * 100.0))\n"
   ]
  },
  {
   "cell_type": "markdown",
   "id": "3883c4e6-5628-4811-8222-b50b2e55aa51",
   "metadata": {},
   "source": [
    "### Model Testing"
   ]
  },
  {
   "cell_type": "code",
   "execution_count": 42,
   "id": "d63c7731-ed8d-4a4b-b1d0-664396bcc247",
   "metadata": {},
   "outputs": [
    {
     "data": {
      "text/html": [
       "<div>\n",
       "<style scoped>\n",
       "    .dataframe tbody tr th:only-of-type {\n",
       "        vertical-align: middle;\n",
       "    }\n",
       "\n",
       "    .dataframe tbody tr th {\n",
       "        vertical-align: top;\n",
       "    }\n",
       "\n",
       "    .dataframe thead th {\n",
       "        text-align: right;\n",
       "    }\n",
       "</style>\n",
       "<table border=\"1\" class=\"dataframe\">\n",
       "  <thead>\n",
       "    <tr style=\"text-align: right;\">\n",
       "      <th></th>\n",
       "      <th>helpful_vote</th>\n",
       "      <th>verified_purchase</th>\n",
       "      <th>word_count</th>\n",
       "      <th>avg_word_length</th>\n",
       "      <th>exclamation_count</th>\n",
       "      <th>Bing_Liu_score</th>\n",
       "      <th>Bing_Liu_spaCy</th>\n",
       "      <th>Vader_score</th>\n",
       "      <th>Vader_spaCy</th>\n",
       "    </tr>\n",
       "  </thead>\n",
       "  <tbody>\n",
       "    <tr>\n",
       "      <th>5851</th>\n",
       "      <td>0.0</td>\n",
       "      <td>0.0</td>\n",
       "      <td>73.0</td>\n",
       "      <td>4.849315</td>\n",
       "      <td>0.0</td>\n",
       "      <td>0.120482</td>\n",
       "      <td>0.243243</td>\n",
       "      <td>0.8555</td>\n",
       "      <td>0.8750</td>\n",
       "    </tr>\n",
       "    <tr>\n",
       "      <th>1409</th>\n",
       "      <td>4.0</td>\n",
       "      <td>1.0</td>\n",
       "      <td>40.0</td>\n",
       "      <td>4.100000</td>\n",
       "      <td>0.0</td>\n",
       "      <td>-0.022222</td>\n",
       "      <td>-0.153846</td>\n",
       "      <td>-0.6705</td>\n",
       "      <td>-0.7009</td>\n",
       "    </tr>\n",
       "    <tr>\n",
       "      <th>600</th>\n",
       "      <td>0.0</td>\n",
       "      <td>1.0</td>\n",
       "      <td>12.0</td>\n",
       "      <td>4.916667</td>\n",
       "      <td>0.0</td>\n",
       "      <td>0.375000</td>\n",
       "      <td>0.750000</td>\n",
       "      <td>0.8612</td>\n",
       "      <td>0.8612</td>\n",
       "    </tr>\n",
       "    <tr>\n",
       "      <th>5047</th>\n",
       "      <td>0.0</td>\n",
       "      <td>1.0</td>\n",
       "      <td>14.0</td>\n",
       "      <td>6.071429</td>\n",
       "      <td>0.0</td>\n",
       "      <td>0.000000</td>\n",
       "      <td>0.000000</td>\n",
       "      <td>0.2960</td>\n",
       "      <td>0.2960</td>\n",
       "    </tr>\n",
       "    <tr>\n",
       "      <th>7201</th>\n",
       "      <td>0.0</td>\n",
       "      <td>1.0</td>\n",
       "      <td>10.0</td>\n",
       "      <td>3.700000</td>\n",
       "      <td>0.0</td>\n",
       "      <td>0.166667</td>\n",
       "      <td>0.333333</td>\n",
       "      <td>0.2944</td>\n",
       "      <td>0.3520</td>\n",
       "    </tr>\n",
       "    <tr>\n",
       "      <th>...</th>\n",
       "      <td>...</td>\n",
       "      <td>...</td>\n",
       "      <td>...</td>\n",
       "      <td>...</td>\n",
       "      <td>...</td>\n",
       "      <td>...</td>\n",
       "      <td>...</td>\n",
       "      <td>...</td>\n",
       "      <td>...</td>\n",
       "    </tr>\n",
       "    <tr>\n",
       "      <th>1017</th>\n",
       "      <td>1.0</td>\n",
       "      <td>1.0</td>\n",
       "      <td>42.0</td>\n",
       "      <td>4.404762</td>\n",
       "      <td>0.0</td>\n",
       "      <td>0.021277</td>\n",
       "      <td>0.055556</td>\n",
       "      <td>0.6369</td>\n",
       "      <td>0.7269</td>\n",
       "    </tr>\n",
       "    <tr>\n",
       "      <th>6616</th>\n",
       "      <td>0.0</td>\n",
       "      <td>1.0</td>\n",
       "      <td>6.0</td>\n",
       "      <td>4.833333</td>\n",
       "      <td>0.0</td>\n",
       "      <td>-0.166667</td>\n",
       "      <td>-0.200000</td>\n",
       "      <td>0.4215</td>\n",
       "      <td>0.4215</td>\n",
       "    </tr>\n",
       "    <tr>\n",
       "      <th>208</th>\n",
       "      <td>0.0</td>\n",
       "      <td>1.0</td>\n",
       "      <td>39.0</td>\n",
       "      <td>4.435897</td>\n",
       "      <td>3.0</td>\n",
       "      <td>0.043478</td>\n",
       "      <td>0.150000</td>\n",
       "      <td>0.5033</td>\n",
       "      <td>0.7579</td>\n",
       "    </tr>\n",
       "    <tr>\n",
       "      <th>4907</th>\n",
       "      <td>0.0</td>\n",
       "      <td>0.0</td>\n",
       "      <td>31.0</td>\n",
       "      <td>4.612903</td>\n",
       "      <td>1.0</td>\n",
       "      <td>0.147059</td>\n",
       "      <td>0.266667</td>\n",
       "      <td>0.8353</td>\n",
       "      <td>0.9099</td>\n",
       "    </tr>\n",
       "    <tr>\n",
       "      <th>1270</th>\n",
       "      <td>0.0</td>\n",
       "      <td>1.0</td>\n",
       "      <td>12.0</td>\n",
       "      <td>4.916667</td>\n",
       "      <td>0.0</td>\n",
       "      <td>0.000000</td>\n",
       "      <td>0.000000</td>\n",
       "      <td>0.0865</td>\n",
       "      <td>0.4215</td>\n",
       "    </tr>\n",
       "  </tbody>\n",
       "</table>\n",
       "<p>7480 rows × 9 columns</p>\n",
       "</div>"
      ],
      "text/plain": [
       "      helpful_vote  verified_purchase  word_count  avg_word_length  \\\n",
       "5851           0.0                0.0        73.0         4.849315   \n",
       "1409           4.0                1.0        40.0         4.100000   \n",
       "600            0.0                1.0        12.0         4.916667   \n",
       "5047           0.0                1.0        14.0         6.071429   \n",
       "7201           0.0                1.0        10.0         3.700000   \n",
       "...            ...                ...         ...              ...   \n",
       "1017           1.0                1.0        42.0         4.404762   \n",
       "6616           0.0                1.0         6.0         4.833333   \n",
       "208            0.0                1.0        39.0         4.435897   \n",
       "4907           0.0                0.0        31.0         4.612903   \n",
       "1270           0.0                1.0        12.0         4.916667   \n",
       "\n",
       "      exclamation_count  Bing_Liu_score  Bing_Liu_spaCy  Vader_score  \\\n",
       "5851                0.0        0.120482        0.243243       0.8555   \n",
       "1409                0.0       -0.022222       -0.153846      -0.6705   \n",
       "600                 0.0        0.375000        0.750000       0.8612   \n",
       "5047                0.0        0.000000        0.000000       0.2960   \n",
       "7201                0.0        0.166667        0.333333       0.2944   \n",
       "...                 ...             ...             ...          ...   \n",
       "1017                0.0        0.021277        0.055556       0.6369   \n",
       "6616                0.0       -0.166667       -0.200000       0.4215   \n",
       "208                 3.0        0.043478        0.150000       0.5033   \n",
       "4907                1.0        0.147059        0.266667       0.8353   \n",
       "1270                0.0        0.000000        0.000000       0.0865   \n",
       "\n",
       "      Vader_spaCy  \n",
       "5851       0.8750  \n",
       "1409      -0.7009  \n",
       "600        0.8612  \n",
       "5047       0.2960  \n",
       "7201       0.3520  \n",
       "...           ...  \n",
       "1017       0.7269  \n",
       "6616       0.4215  \n",
       "208        0.7579  \n",
       "4907       0.9099  \n",
       "1270       0.4215  \n",
       "\n",
       "[7480 rows x 9 columns]"
      ]
     },
     "execution_count": 42,
     "metadata": {},
     "output_type": "execute_result"
    }
   ],
   "source": [
    "variables = ['helpful_vote', 'verified_purchase', 'word_count', 'avg_word_length', \n",
    "            'exclamation_count', 'Bing_Liu_score', 'Bing_Liu_spaCy', 'Vader_score', 'Vader_spaCy']\n",
    "X_train[variables].astype(float)"
   ]
  },
  {
   "cell_type": "code",
   "execution_count": 43,
   "id": "0c1464a1-d301-4797-99ce-039fcc74b8c3",
   "metadata": {},
   "outputs": [],
   "source": [
    "m = csr_matrix(X_train[variables].astype(float))\n",
    "n = csr_matrix(X_test[variables].astype(float))\n",
    "\n",
    "X_train_stack = hstack((m, X_train_tf))\n",
    "X_test_stack = hstack((n, X_test_tf))"
   ]
  },
  {
   "cell_type": "code",
   "execution_count": 44,
   "id": "2645f79c-007d-477f-a488-cffb34f6c895",
   "metadata": {},
   "outputs": [
    {
     "name": "stdout",
     "output_type": "stream",
     "text": [
      "Accuracy: 0.9502939604489578\n",
      "ROC-AUC Score: 0.7556171867272325\n",
      "Classification Report: \n",
      "               precision    recall  f1-score   support\n",
      "\n",
      "           0       0.80      0.52      0.63       153\n",
      "           1       0.96      0.99      0.97      1718\n",
      "\n",
      "    accuracy                           0.95      1871\n",
      "   macro avg       0.88      0.76      0.80      1871\n",
      "weighted avg       0.95      0.95      0.95      1871\n",
      "\n",
      "Confusion Matrix: \n",
      " [[  80   73]\n",
      " [  20 1698]]\n"
     ]
    },
    {
     "name": "stderr",
     "output_type": "stream",
     "text": [
      "C:\\Users\\MJ\\anaconda3\\Lib\\site-packages\\sklearn\\svm\\_base.py:1244: ConvergenceWarning: Liblinear failed to converge, increase the number of iterations.\n",
      "  warnings.warn(\n"
     ]
    }
   ],
   "source": [
    "linear.fit(X_train_stack, y_train)\n",
    "\n",
    "y_pred = linear.predict(X_test_stack)\n",
    "\n",
    "print(f'Accuracy: {accuracy_score(y_test, y_pred)}')\n",
    "print(f'ROC-AUC Score: {roc_auc_score(y_test, y_pred)}')\n",
    "print(f'Classification Report: \\n {classification_report(y_test,y_pred, zero_division = 0.0)}')\n",
    "print(f'Confusion Matrix: \\n {confusion_matrix(y_test, y_pred)}')"
   ]
  },
  {
   "cell_type": "markdown",
   "id": "9c0e6d04-bf9e-4ece-ace9-c4f029c286fe",
   "metadata": {},
   "source": [
    "## Topic Modeling\n",
    "\n",
    "Unsupervised NLP technique used to discover hidden topics in text documents.\n",
    "\n",
    "**Singular Value Decomposition (SVD)**: \n",
    "- Aka Latent Semantic Indexing (LSI).\n",
    "- Reduces dimensionality to reveal latent structures.\n",
    "\n",
    "**Non-Negative Matrix Factorization (NMF)**\n",
    "- Decomposes the term-document matrix into:\n",
    "    - W (Document-Topic Matrix): Distribution of topics across documents.\n",
    "    - H (Term-Topic Matrix): Significance of terms across topics.\n",
    "- Advantages:\n",
    "    - Easier interpretation due to non-negative values.\n",
    "    - Higher scores indicate stronger relevance."
   ]
  },
  {
   "cell_type": "code",
   "execution_count": 58,
   "id": "f86f10ae-a152-4288-8444-6648133b787a",
   "metadata": {},
   "outputs": [],
   "source": [
    "def display_topics(model, features, no_top_words=5):\n",
    "    \"\"\"\n",
    "    Displays the top words for each topic in the given model.\n",
    "\n",
    "    Parameters:\n",
    "    model (sklearn.decomposition): The fitted topic model.\n",
    "    features (list): The list of feature names (words) corresponding to the columns in the model's components_ attribute.\n",
    "    no_top_words (int): The number of top words to display for each topic. Default is 5.\n",
    "    \"\"\"\n",
    "    for topic, word_vector in enumerate(model.components_):\n",
    "        total = word_vector.sum()\n",
    "        largest = word_vector.argsort()[::-1]  # Invert sort order\n",
    "        print(f\"\\nTopic {topic:02d}\")  # Topic number\n",
    "        for i in range(no_top_words):\n",
    "            word = features[largest[i]]\n",
    "            percentage_contribution = word_vector[largest[i]] * 100.0 / total\n",
    "            print(f\" {word} ({percentage_contribution:.2f}%)\")"
   ]
  },
  {
   "cell_type": "markdown",
   "id": "c728d1f4-28b8-4a00-9ac4-ddedfd111eff",
   "metadata": {},
   "source": [
    "### SVD (Singular Value Decomposition)"
   ]
  },
  {
   "cell_type": "code",
   "execution_count": 59,
   "id": "23936663-eee4-44aa-9cad-d8bd2a2c4251",
   "metadata": {
    "scrolled": true
   },
   "outputs": [],
   "source": [
    "svd_pipe = Pipeline([\n",
    "    ('tfidf', TfidfVectorizer()),\n",
    "    ('svd', TruncatedSVD(n_components = 7))\n",
    "])\n",
    "\n",
    "svd_pipe.fit(cleaned_text['spacy_text'])\n",
    "vocab = svd_pipe.named_steps['tfidf'].get_feature_names_out()\n",
    "components = svd_pipe.named_steps['svd'].components_"
   ]
  },
  {
   "cell_type": "code",
   "execution_count": 60,
   "id": "41416e8b-fac9-4cad-bc5b-d466bde0a4bd",
   "metadata": {
    "scrolled": true
   },
   "outputs": [
    {
     "data": {
      "text/html": [
       "<div>\n",
       "<style scoped>\n",
       "    .dataframe tbody tr th:only-of-type {\n",
       "        vertical-align: middle;\n",
       "    }\n",
       "\n",
       "    .dataframe tbody tr th {\n",
       "        vertical-align: top;\n",
       "    }\n",
       "\n",
       "    .dataframe thead th {\n",
       "        text-align: right;\n",
       "    }\n",
       "</style>\n",
       "<table border=\"1\" class=\"dataframe\">\n",
       "  <thead>\n",
       "    <tr style=\"text-align: right;\">\n",
       "      <th></th>\n",
       "      <th>word</th>\n",
       "      <th>weight</th>\n",
       "    </tr>\n",
       "  </thead>\n",
       "  <tbody>\n",
       "    <tr>\n",
       "      <th>5920</th>\n",
       "      <td>product</td>\n",
       "      <td>0.614102</td>\n",
       "    </tr>\n",
       "    <tr>\n",
       "      <th>3232</th>\n",
       "      <td>good</td>\n",
       "      <td>0.569168</td>\n",
       "    </tr>\n",
       "    <tr>\n",
       "      <th>3312</th>\n",
       "      <td>great</td>\n",
       "      <td>0.174051</td>\n",
       "    </tr>\n",
       "    <tr>\n",
       "      <th>5070</th>\n",
       "      <td>not</td>\n",
       "      <td>0.159075</td>\n",
       "    </tr>\n",
       "    <tr>\n",
       "      <th>8401</th>\n",
       "      <td>very</td>\n",
       "      <td>0.126264</td>\n",
       "    </tr>\n",
       "    <tr>\n",
       "      <th>4435</th>\n",
       "      <td>love</td>\n",
       "      <td>0.126012</td>\n",
       "    </tr>\n",
       "    <tr>\n",
       "      <th>5019</th>\n",
       "      <td>nice</td>\n",
       "      <td>0.106471</td>\n",
       "    </tr>\n",
       "    <tr>\n",
       "      <th>8570</th>\n",
       "      <td>well</td>\n",
       "      <td>0.105487</td>\n",
       "    </tr>\n",
       "    <tr>\n",
       "      <th>4406</th>\n",
       "      <td>look</td>\n",
       "      <td>0.104913</td>\n",
       "    </tr>\n",
       "    <tr>\n",
       "      <th>8318</th>\n",
       "      <td>use</td>\n",
       "      <td>0.104904</td>\n",
       "    </tr>\n",
       "  </tbody>\n",
       "</table>\n",
       "</div>"
      ],
      "text/plain": [
       "         word    weight\n",
       "5920  product  0.614102\n",
       "3232     good  0.569168\n",
       "3312    great  0.174051\n",
       "5070      not  0.159075\n",
       "8401     very  0.126264\n",
       "4435     love  0.126012\n",
       "5019     nice  0.106471\n",
       "8570     well  0.105487\n",
       "4406     look  0.104913\n",
       "8318      use  0.104904"
      ]
     },
     "execution_count": 60,
     "metadata": {},
     "output_type": "execute_result"
    }
   ],
   "source": [
    "topic_num = 0\n",
    "\n",
    "pd.DataFrame({\n",
    "    'word': vocab,\n",
    "    'weight': components[topic_num]\n",
    "}).sort_values('weight', ascending = False).head(10)"
   ]
  },
  {
   "cell_type": "code",
   "execution_count": 61,
   "id": "f7caf581-528e-4184-ba89-baaa21a62417",
   "metadata": {
    "scrolled": true
   },
   "outputs": [
    {
     "name": "stdout",
     "output_type": "stream",
     "text": [
      "\n",
      "Topic 00\n",
      " product (4.77%)\n",
      " good (4.43%)\n",
      " great (1.35%)\n",
      " not (1.24%)\n",
      " very (0.98%)\n",
      "\n",
      "Topic 01\n",
      " product (-2.57%)\n",
      " good (-1.75%)\n",
      " wilton (-0.00%)\n",
      " communication (-0.00%)\n",
      " nespressos (-0.00%)\n",
      "\n",
      "Topic 02\n",
      " love (-12.54%)\n",
      " great (-4.25%)\n",
      " beautiful (-0.99%)\n",
      " gift (-0.81%)\n",
      " product (-0.79%)\n",
      "\n",
      "Topic 03\n",
      " great (-19.33%)\n",
      " work (-5.69%)\n",
      " price (-2.48%)\n",
      " product (-2.01%)\n",
      " look (-1.87%)\n",
      "\n",
      "Topic 04\n",
      " nice (-8.75%)\n",
      " very (-5.96%)\n",
      " quality (-4.49%)\n",
      " look (-3.44%)\n",
      " soft (-2.24%)\n",
      "\n",
      "Topic 05\n",
      " work (-17.04%)\n",
      " very (-14.96%)\n",
      " easy (-8.54%)\n",
      " well (-7.29%)\n",
      " clean (-4.99%)\n",
      "\n",
      "Topic 06\n",
      " perfect (-45.47%)\n",
      " good (-22.35%)\n",
      " work (-21.45%)\n",
      " well (-10.56%)\n",
      " size (-8.98%)\n"
     ]
    }
   ],
   "source": [
    "display_topics(svd_pipe.named_steps['svd'], vocab)"
   ]
  },
  {
   "cell_type": "markdown",
   "id": "3cfde545-2255-4d79-9cec-8a2c5861d1e9",
   "metadata": {},
   "source": [
    "### NMF (Non-negative Matrix Factorization)"
   ]
  },
  {
   "cell_type": "code",
   "execution_count": 53,
   "id": "39ba586b-ed24-4ffc-960c-23ce3b28ddcf",
   "metadata": {},
   "outputs": [],
   "source": [
    "nmf_pipe = Pipeline([\n",
    "    ('tfidf', TfidfVectorizer()),\n",
    "    ('nmf', NMF(n_components = 7))\n",
    "])\n",
    "\n",
    "nmf_pipe.fit(cleaned_text['spacy_text'])\n",
    "\n",
    "nmf_vocab = nmf_pipe.named_steps['tfidf'].get_feature_names_out()\n",
    "nmf_components = nmf_pipe.named_steps['nmf'].components_"
   ]
  },
  {
   "cell_type": "code",
   "execution_count": 54,
   "id": "521a4b92-ee80-47f5-9925-069ea5f31501",
   "metadata": {
    "scrolled": true
   },
   "outputs": [
    {
     "data": {
      "text/html": [
       "<div>\n",
       "<style scoped>\n",
       "    .dataframe tbody tr th:only-of-type {\n",
       "        vertical-align: middle;\n",
       "    }\n",
       "\n",
       "    .dataframe tbody tr th {\n",
       "        vertical-align: top;\n",
       "    }\n",
       "\n",
       "    .dataframe thead th {\n",
       "        text-align: right;\n",
       "    }\n",
       "</style>\n",
       "<table border=\"1\" class=\"dataframe\">\n",
       "  <thead>\n",
       "    <tr style=\"text-align: right;\">\n",
       "      <th></th>\n",
       "      <th>word</th>\n",
       "      <th>weight</th>\n",
       "    </tr>\n",
       "  </thead>\n",
       "  <tbody>\n",
       "    <tr>\n",
       "      <th>3312</th>\n",
       "      <td>great</td>\n",
       "      <td>2.878234</td>\n",
       "    </tr>\n",
       "    <tr>\n",
       "      <th>5879</th>\n",
       "      <td>price</td>\n",
       "      <td>0.453298</td>\n",
       "    </tr>\n",
       "    <tr>\n",
       "      <th>4406</th>\n",
       "      <td>look</td>\n",
       "      <td>0.347344</td>\n",
       "    </tr>\n",
       "    <tr>\n",
       "      <th>6020</th>\n",
       "      <td>quality</td>\n",
       "      <td>0.241452</td>\n",
       "    </tr>\n",
       "    <tr>\n",
       "      <th>8348</th>\n",
       "      <td>value</td>\n",
       "      <td>0.165066</td>\n",
       "    </tr>\n",
       "    <tr>\n",
       "      <th>2359</th>\n",
       "      <td>easy</td>\n",
       "      <td>0.161163</td>\n",
       "    </tr>\n",
       "    <tr>\n",
       "      <th>5920</th>\n",
       "      <td>product</td>\n",
       "      <td>0.141740</td>\n",
       "    </tr>\n",
       "    <tr>\n",
       "      <th>957</th>\n",
       "      <td>buy</td>\n",
       "      <td>0.141271</td>\n",
       "    </tr>\n",
       "    <tr>\n",
       "      <th>6160</th>\n",
       "      <td>recommend</td>\n",
       "      <td>0.117322</td>\n",
       "    </tr>\n",
       "    <tr>\n",
       "      <th>3171</th>\n",
       "      <td>gift</td>\n",
       "      <td>0.097055</td>\n",
       "    </tr>\n",
       "  </tbody>\n",
       "</table>\n",
       "</div>"
      ],
      "text/plain": [
       "           word    weight\n",
       "3312      great  2.878234\n",
       "5879      price  0.453298\n",
       "4406       look  0.347344\n",
       "6020    quality  0.241452\n",
       "8348      value  0.165066\n",
       "2359       easy  0.161163\n",
       "5920    product  0.141740\n",
       "957         buy  0.141271\n",
       "6160  recommend  0.117322\n",
       "3171       gift  0.097055"
      ]
     },
     "execution_count": 54,
     "metadata": {},
     "output_type": "execute_result"
    }
   ],
   "source": [
    "topic_num = 3\n",
    "\n",
    "pd.DataFrame({\n",
    "    'word': nmf_vocab,\n",
    "    'weight': nmf_components[topic_num]\n",
    "}).sort_values('weight', ascending = False).head(10)"
   ]
  },
  {
   "cell_type": "code",
   "execution_count": 55,
   "id": "3dd46f78-fcde-4cc4-a5ac-c085acb368ce",
   "metadata": {
    "scrolled": true
   },
   "outputs": [
    {
     "name": "stdout",
     "output_type": "stream",
     "text": [
      "\n",
      "Topic 00\n",
      " product (42.79)\n",
      " good (36.51)\n",
      " quality (1.18)\n",
      " price (0.62)\n",
      " excellent (0.26)\n",
      "\n",
      "Topic 01\n",
      " not (1.99)\n",
      " use (1.30)\n",
      " like (0.93)\n",
      " review (0.77)\n",
      " easy (0.74)\n",
      "\n",
      "Topic 02\n",
      " love (26.60)\n",
      " beautiful (1.99)\n",
      " color (1.67)\n",
      " gift (1.65)\n",
      " buy (1.48)\n",
      "\n",
      "Topic 03\n",
      " great (24.45)\n",
      " price (3.85)\n",
      " look (2.95)\n",
      " quality (2.05)\n",
      " value (1.40)\n",
      "\n",
      "Topic 04\n",
      " nice (6.15)\n",
      " very (5.78)\n",
      " look (2.79)\n",
      " quality (2.65)\n",
      " soft (1.87)\n",
      "\n",
      "Topic 05\n",
      " work (19.99)\n",
      " well (9.43)\n",
      " perfectly (1.63)\n",
      " need (1.23)\n",
      " expect (0.87)\n",
      "\n",
      "Topic 06\n",
      " perfect (19.21)\n",
      " size (4.58)\n",
      " need (2.17)\n",
      " fit (1.96)\n",
      " gift (1.27)\n"
     ]
    }
   ],
   "source": [
    "display_topics(nmf_pipe.named_steps['nmf'], vocab)"
   ]
  },
  {
   "cell_type": "code",
   "execution_count": null,
   "id": "44d52ed6-bb2f-49c2-a48f-7d03f49c1e0b",
   "metadata": {},
   "outputs": [],
   "source": []
  }
 ],
 "metadata": {
  "kernelspec": {
   "display_name": "Python 3 (ipykernel)",
   "language": "python",
   "name": "python3"
  },
  "language_info": {
   "codemirror_mode": {
    "name": "ipython",
    "version": 3
   },
   "file_extension": ".py",
   "mimetype": "text/x-python",
   "name": "python",
   "nbconvert_exporter": "python",
   "pygments_lexer": "ipython3",
   "version": "3.11.8"
  }
 },
 "nbformat": 4,
 "nbformat_minor": 5
}
